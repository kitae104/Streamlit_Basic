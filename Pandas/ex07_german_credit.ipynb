{
 "cells": [
  {
   "cell_type": "markdown",
   "metadata": {},
   "source": [
    "연속 데이터를 그룹화하여 범주형 데이터로 분석하기"
   ]
  },
  {
   "cell_type": "code",
   "execution_count": 2,
   "metadata": {},
   "outputs": [
    {
     "data": {
      "text/html": [
       "<div>\n",
       "<style scoped>\n",
       "    .dataframe tbody tr th:only-of-type {\n",
       "        vertical-align: middle;\n",
       "    }\n",
       "\n",
       "    .dataframe tbody tr th {\n",
       "        vertical-align: top;\n",
       "    }\n",
       "\n",
       "    .dataframe thead th {\n",
       "        text-align: right;\n",
       "    }\n",
       "</style>\n",
       "<table border=\"1\" class=\"dataframe\">\n",
       "  <thead>\n",
       "    <tr style=\"text-align: right;\">\n",
       "      <th></th>\n",
       "      <th>Age</th>\n",
       "      <th>Sex</th>\n",
       "      <th>Job</th>\n",
       "      <th>Housing</th>\n",
       "      <th>Saving accounts</th>\n",
       "      <th>Checking account</th>\n",
       "      <th>Credit amount</th>\n",
       "      <th>Duration</th>\n",
       "      <th>Purpose</th>\n",
       "    </tr>\n",
       "  </thead>\n",
       "  <tbody>\n",
       "    <tr>\n",
       "      <th>0</th>\n",
       "      <td>67</td>\n",
       "      <td>male</td>\n",
       "      <td>2</td>\n",
       "      <td>own</td>\n",
       "      <td>NaN</td>\n",
       "      <td>little</td>\n",
       "      <td>1169</td>\n",
       "      <td>6</td>\n",
       "      <td>radio/TV</td>\n",
       "    </tr>\n",
       "    <tr>\n",
       "      <th>1</th>\n",
       "      <td>22</td>\n",
       "      <td>female</td>\n",
       "      <td>2</td>\n",
       "      <td>own</td>\n",
       "      <td>little</td>\n",
       "      <td>moderate</td>\n",
       "      <td>5951</td>\n",
       "      <td>48</td>\n",
       "      <td>radio/TV</td>\n",
       "    </tr>\n",
       "    <tr>\n",
       "      <th>2</th>\n",
       "      <td>49</td>\n",
       "      <td>male</td>\n",
       "      <td>1</td>\n",
       "      <td>own</td>\n",
       "      <td>little</td>\n",
       "      <td>NaN</td>\n",
       "      <td>2096</td>\n",
       "      <td>12</td>\n",
       "      <td>education</td>\n",
       "    </tr>\n",
       "    <tr>\n",
       "      <th>3</th>\n",
       "      <td>45</td>\n",
       "      <td>male</td>\n",
       "      <td>2</td>\n",
       "      <td>free</td>\n",
       "      <td>little</td>\n",
       "      <td>little</td>\n",
       "      <td>7882</td>\n",
       "      <td>42</td>\n",
       "      <td>furniture/equipment</td>\n",
       "    </tr>\n",
       "    <tr>\n",
       "      <th>4</th>\n",
       "      <td>53</td>\n",
       "      <td>male</td>\n",
       "      <td>2</td>\n",
       "      <td>free</td>\n",
       "      <td>little</td>\n",
       "      <td>little</td>\n",
       "      <td>4870</td>\n",
       "      <td>24</td>\n",
       "      <td>car</td>\n",
       "    </tr>\n",
       "  </tbody>\n",
       "</table>\n",
       "</div>"
      ],
      "text/plain": [
       "   Age     Sex  Job Housing Saving accounts Checking account  Credit amount  \\\n",
       "0   67    male    2     own             NaN           little           1169   \n",
       "1   22  female    2     own          little         moderate           5951   \n",
       "2   49    male    1     own          little              NaN           2096   \n",
       "3   45    male    2    free          little           little           7882   \n",
       "4   53    male    2    free          little           little           4870   \n",
       "\n",
       "   Duration              Purpose  \n",
       "0         6             radio/TV  \n",
       "1        48             radio/TV  \n",
       "2        12            education  \n",
       "3        42  furniture/equipment  \n",
       "4        24                  car  "
      ]
     },
     "execution_count": 2,
     "metadata": {},
     "output_type": "execute_result"
    }
   ],
   "source": [
    "import pandas as pd\n",
    "df = pd.read_csv('../datasets/German_credit/German_credit.csv')\n",
    "df.head()"
   ]
  },
  {
   "cell_type": "code",
   "execution_count": 3,
   "metadata": {},
   "outputs": [
    {
     "data": {
      "text/plain": [
       "count    1000.000000\n",
       "mean       35.546000\n",
       "std        11.375469\n",
       "min        19.000000\n",
       "25%        27.000000\n",
       "50%        33.000000\n",
       "75%        42.000000\n",
       "max        75.000000\n",
       "Name: Age, dtype: float64"
      ]
     },
     "execution_count": 3,
     "metadata": {},
     "output_type": "execute_result"
    }
   ],
   "source": [
    "# describe를 통한 Age 변수 확인\n",
    "df['Age'].describe()"
   ]
  },
  {
   "cell_type": "markdown",
   "metadata": {},
   "source": [
    "cut : \n",
    "- 특정 수치 범위를 일정한 길이를 가지는 n개의 구간으로 나눌 때 유용하게 사용\n",
    "\n",
    "qcut : \n",
    "- 특정 수치 범위에 데이터가 분포해 잇을 대 각 구간별로 일정한 개수의 데이터가 포함되게끔 n개의 구간으로 나눌 때 사용 \n",
    "- 각 구간의 길이는 일정하지 않을 수 있음\n"
   ]
  },
  {
   "cell_type": "code",
   "execution_count": 4,
   "metadata": {},
   "outputs": [
    {
     "data": {
      "text/plain": [
       "0        (61.0, 68.0]\n",
       "1      (18.944, 26.0]\n",
       "2        (47.0, 54.0]\n",
       "3        (40.0, 47.0]\n",
       "4        (47.0, 54.0]\n",
       "            ...      \n",
       "995      (26.0, 33.0]\n",
       "996      (33.0, 40.0]\n",
       "997      (33.0, 40.0]\n",
       "998    (18.944, 26.0]\n",
       "999      (26.0, 33.0]\n",
       "Name: Age, Length: 1000, dtype: category\n",
       "Categories (8, interval[float64, right]): [(18.944, 26.0] < (26.0, 33.0] < (33.0, 40.0] < (40.0, 47.0] < (47.0, 54.0] < (54.0, 61.0] < (61.0, 68.0] < (68.0, 75.0]]"
      ]
     },
     "execution_count": 4,
     "metadata": {},
     "output_type": "execute_result"
    }
   ],
   "source": [
    "# cut 메서드를 이용한 수치형 변수 구간화\n",
    "pd.cut(df['Age'], bins=8) # 8개의 구간으로 구간화"
   ]
  },
  {
   "cell_type": "code",
   "execution_count": 8,
   "metadata": {},
   "outputs": [
    {
     "name": "stderr",
     "output_type": "stream",
     "text": [
      "C:\\Users\\kitae\\AppData\\Local\\Temp\\ipykernel_16228\\2753818172.py:2: FutureWarning: The default of observed=False is deprecated and will be changed to True in a future version of pandas. Pass observed=False to retain current behavior or observed=True to adopt the future default and silence this warning.\n",
      "  pd.cut(df['Age'], bins=8).reset_index().groupby('Age').size()\n"
     ]
    },
    {
     "data": {
      "text/plain": [
       "Age\n",
       "(18.944, 26.0]    240\n",
       "(26.0, 33.0]      276\n",
       "(33.0, 40.0]      210\n",
       "(40.0, 47.0]      123\n",
       "(47.0, 54.0]       72\n",
       "(54.0, 61.0]       41\n",
       "(61.0, 68.0]       31\n",
       "(68.0, 75.0]        7\n",
       "dtype: int64"
      ]
     },
     "execution_count": 8,
     "metadata": {},
     "output_type": "execute_result"
    }
   ],
   "source": [
    "# 구간별 데이터 개수 확인\n",
    "pd.cut(df['Age'], bins=8).reset_index().groupby('Age').size()  # .count() 도 가능"
   ]
  },
  {
   "cell_type": "code",
   "execution_count": 12,
   "metadata": {},
   "outputs": [
    {
     "name": "stderr",
     "output_type": "stream",
     "text": [
      "C:\\Users\\kitae\\AppData\\Local\\Temp\\ipykernel_16228\\1826674950.py:3: FutureWarning: The default of observed=False is deprecated and will be changed to True in a future version of pandas. Pass observed=False to retain current behavior or observed=True to adopt the future default and silence this warning.\n",
      "  pd.cut(df['Age'], bins=bins).reset_index().groupby('Age').count()\n"
     ]
    },
    {
     "data": {
      "text/html": [
       "<div>\n",
       "<style scoped>\n",
       "    .dataframe tbody tr th:only-of-type {\n",
       "        vertical-align: middle;\n",
       "    }\n",
       "\n",
       "    .dataframe tbody tr th {\n",
       "        vertical-align: top;\n",
       "    }\n",
       "\n",
       "    .dataframe thead th {\n",
       "        text-align: right;\n",
       "    }\n",
       "</style>\n",
       "<table border=\"1\" class=\"dataframe\">\n",
       "  <thead>\n",
       "    <tr style=\"text-align: right;\">\n",
       "      <th></th>\n",
       "      <th>index</th>\n",
       "    </tr>\n",
       "    <tr>\n",
       "      <th>Age</th>\n",
       "      <th></th>\n",
       "    </tr>\n",
       "  </thead>\n",
       "  <tbody>\n",
       "    <tr>\n",
       "      <th>(10, 20]</th>\n",
       "      <td>16</td>\n",
       "    </tr>\n",
       "    <tr>\n",
       "      <th>(20, 30]</th>\n",
       "      <td>395</td>\n",
       "    </tr>\n",
       "    <tr>\n",
       "      <th>(30, 40]</th>\n",
       "      <td>315</td>\n",
       "    </tr>\n",
       "    <tr>\n",
       "      <th>(40, 50]</th>\n",
       "      <td>161</td>\n",
       "    </tr>\n",
       "    <tr>\n",
       "      <th>(50, 60]</th>\n",
       "      <td>68</td>\n",
       "    </tr>\n",
       "    <tr>\n",
       "      <th>(60, 70]</th>\n",
       "      <td>39</td>\n",
       "    </tr>\n",
       "    <tr>\n",
       "      <th>(70, 80]</th>\n",
       "      <td>6</td>\n",
       "    </tr>\n",
       "  </tbody>\n",
       "</table>\n",
       "</div>"
      ],
      "text/plain": [
       "          index\n",
       "Age            \n",
       "(10, 20]     16\n",
       "(20, 30]    395\n",
       "(30, 40]    315\n",
       "(40, 50]    161\n",
       "(50, 60]     68\n",
       "(60, 70]     39\n",
       "(70, 80]      6"
      ]
     },
     "execution_count": 12,
     "metadata": {},
     "output_type": "execute_result"
    }
   ],
   "source": [
    "# cut 메서드를 통한 임의 구간화 - 구간을 직접 지정할 경우 리스트 형태로 지정\n",
    "bins = [10, 20, 30, 40, 50, 60, 70, 80]\n",
    "pd.cut(df['Age'], bins=bins)\n",
    "pd.cut(df['Age'], bins=bins).reset_index().groupby('Age').count() "
   ]
  },
  {
   "cell_type": "code",
   "execution_count": 13,
   "metadata": {},
   "outputs": [
    {
     "data": {
      "text/plain": [
       "0      [60, 70)\n",
       "1      [20, 30)\n",
       "2      [40, 50)\n",
       "3      [40, 50)\n",
       "4      [50, 60)\n",
       "         ...   \n",
       "995    [30, 40)\n",
       "996    [40, 50)\n",
       "997    [30, 40)\n",
       "998    [20, 30)\n",
       "999    [20, 30)\n",
       "Name: Age, Length: 1000, dtype: category\n",
       "Categories (7, interval[int64, left]): [[10, 20) < [20, 30) < [30, 40) < [40, 50) < [50, 60) < [60, 70) < [70, 80)]"
      ]
     },
     "execution_count": 13,
     "metadata": {},
     "output_type": "execute_result"
    }
   ],
   "source": [
    "# right 인자를 이용한 오른쪽 닫힌 구간 범주화\n",
    "bins = [10, 20, 30, 40, 50, 60, 70, 80]\n",
    "pd.cut(df['Age'], bins=bins, right=False)"
   ]
  },
  {
   "cell_type": "code",
   "execution_count": 14,
   "metadata": {},
   "outputs": [
    {
     "data": {
      "text/plain": [
       "0      (49.125, 75.0]\n",
       "1      (18.999, 24.0]\n",
       "2      (42.0, 49.125]\n",
       "3      (42.0, 49.125]\n",
       "4      (49.125, 75.0]\n",
       "            ...      \n",
       "995      (30.0, 33.0]\n",
       "996      (36.0, 42.0]\n",
       "997      (36.0, 42.0]\n",
       "998    (18.999, 24.0]\n",
       "999      (24.0, 27.0]\n",
       "Name: Age, Length: 1000, dtype: category\n",
       "Categories (8, interval[float64, right]): [(18.999, 24.0] < (24.0, 27.0] < (27.0, 30.0] < (30.0, 33.0] < (33.0, 36.0] < (36.0, 42.0] < (42.0, 49.125] < (49.125, 75.0]]"
      ]
     },
     "execution_count": 14,
     "metadata": {},
     "output_type": "execute_result"
    }
   ],
   "source": [
    "# qcut\n",
    "pd.qcut(df['Age'], q=8) # 8개의 구간으로 구간화"
   ]
  },
  {
   "cell_type": "code",
   "execution_count": 16,
   "metadata": {},
   "outputs": [
    {
     "name": "stderr",
     "output_type": "stream",
     "text": [
      "C:\\Users\\kitae\\AppData\\Local\\Temp\\ipykernel_16228\\2657639528.py:1: FutureWarning: The default of observed=False is deprecated and will be changed to True in a future version of pandas. Pass observed=False to retain current behavior or observed=True to adopt the future default and silence this warning.\n",
      "  pd.qcut(df['Age'], q=8, duplicates='drop').reset_index().groupby('Age').size()\n"
     ]
    },
    {
     "data": {
      "text/plain": [
       "Age\n",
       "(18.999, 24.0]    149\n",
       "(24.0, 27.0]      142\n",
       "(27.0, 30.0]      120\n",
       "(30.0, 33.0]      105\n",
       "(33.0, 36.0]      111\n",
       "(36.0, 42.0]      138\n",
       "(42.0, 49.125]    110\n",
       "(49.125, 75.0]    125\n",
       "dtype: int64"
      ]
     },
     "execution_count": 16,
     "metadata": {},
     "output_type": "execute_result"
    }
   ],
   "source": [
    "# qcut으로 나눈 범주형 변수의 구간별 데이터 개수 확인\n",
    "pd.qcut(df['Age'], q=8, duplicates='drop').reset_index().groupby('Age').size()"
   ]
  },
  {
   "cell_type": "markdown",
   "metadata": {},
   "source": [
    "조건을 만족하는 최대 연속 횟수 구하기"
   ]
  },
  {
   "cell_type": "code",
   "execution_count": 17,
   "metadata": {},
   "outputs": [
    {
     "data": {
      "text/plain": [
       "0    0\n",
       "1    0\n",
       "2    1\n",
       "3    1\n",
       "4    0\n",
       "5    1\n",
       "6    1\n",
       "7    1\n",
       "8    1\n",
       "9    0\n",
       "dtype: int64"
      ]
     },
     "execution_count": 17,
     "metadata": {},
     "output_type": "execute_result"
    }
   ],
   "source": [
    "# 임의로 만든 시리즈 데이터 \n",
    "s = pd.Series([0, 0, 1, 1, 0, 1, 1, 1, 1, 0])\n",
    "s"
   ]
  },
  {
   "cell_type": "code",
   "execution_count": 18,
   "metadata": {},
   "outputs": [
    {
     "data": {
      "text/plain": [
       "0    0\n",
       "1    0\n",
       "2    1\n",
       "3    2\n",
       "4    2\n",
       "5    3\n",
       "6    4\n",
       "7    5\n",
       "8    6\n",
       "9    6\n",
       "dtype: int64"
      ]
     },
     "execution_count": 18,
     "metadata": {},
     "output_type": "execute_result"
    }
   ],
   "source": [
    "# cumsum 메서드를 통한 누적합\n",
    "sc = s.cumsum()\n",
    "sc"
   ]
  },
  {
   "cell_type": "code",
   "execution_count": 19,
   "metadata": {},
   "outputs": [
    {
     "data": {
      "text/plain": [
       "0    0\n",
       "1    0\n",
       "2    1\n",
       "3    2\n",
       "4    0\n",
       "5    3\n",
       "6    4\n",
       "7    5\n",
       "8    6\n",
       "9    0\n",
       "dtype: int64"
      ]
     },
     "execution_count": 19,
     "metadata": {},
     "output_type": "execute_result"
    }
   ],
   "source": [
    "# 곱하기 연산을 통한 누적곱\n",
    "s.mul(sc)"
   ]
  },
  {
   "cell_type": "code",
   "execution_count": 20,
   "metadata": {},
   "outputs": [
    {
     "data": {
      "text/plain": [
       "0    NaN\n",
       "1    0.0\n",
       "2    1.0\n",
       "3    1.0\n",
       "4   -2.0\n",
       "5    3.0\n",
       "6    1.0\n",
       "7    1.0\n",
       "8    1.0\n",
       "9   -6.0\n",
       "dtype: float64"
      ]
     },
     "execution_count": 20,
     "metadata": {},
     "output_type": "execute_result"
    }
   ],
   "source": [
    "# diff 메서드를 통한 차분\n",
    "# 원 데이터를 한 칸씩 뒤로 미루고 차분을 계산\n",
    "s.mul(sc).diff()  "
   ]
  },
  {
   "cell_type": "code",
   "execution_count": 21,
   "metadata": {},
   "outputs": [
    {
     "data": {
      "text/plain": [
       "0    NaN\n",
       "1    NaN\n",
       "2    NaN\n",
       "3    NaN\n",
       "4   -2.0\n",
       "5    NaN\n",
       "6    NaN\n",
       "7    NaN\n",
       "8    NaN\n",
       "9   -6.0\n",
       "dtype: float64"
      ]
     },
     "execution_count": 21,
     "metadata": {},
     "output_type": "execute_result"
    }
   ],
   "source": [
    "# 음수만 남기고 나머지는 NaN으로 처리\n",
    "s.mul(sc).diff().where(lambda x: x<0)"
   ]
  },
  {
   "cell_type": "code",
   "execution_count": 22,
   "metadata": {},
   "outputs": [
    {
     "data": {
      "text/plain": [
       "0    NaN\n",
       "1    NaN\n",
       "2    NaN\n",
       "3    NaN\n",
       "4   -2.0\n",
       "5   -2.0\n",
       "6   -2.0\n",
       "7   -2.0\n",
       "8   -2.0\n",
       "9   -6.0\n",
       "dtype: float64"
      ]
     },
     "execution_count": 22,
     "metadata": {},
     "output_type": "execute_result"
    }
   ],
   "source": [
    "# 남은 은수 값을 ffill 메서드를 통해 앞쪽 값으로 채움\n",
    "s.mul(sc).diff().where(lambda x: x<0).ffill()"
   ]
  },
  {
   "cell_type": "code",
   "execution_count": 23,
   "metadata": {},
   "outputs": [
    {
     "data": {
      "text/plain": [
       "0    0.0\n",
       "1    0.0\n",
       "2    1.0\n",
       "3    2.0\n",
       "4    0.0\n",
       "5    1.0\n",
       "6    2.0\n",
       "7    3.0\n",
       "8    4.0\n",
       "9    0.0\n",
       "dtype: float64"
      ]
     },
     "execution_count": 23,
     "metadata": {},
     "output_type": "execute_result"
    }
   ],
   "source": [
    "# 위에 구한 값을 원 데이터 s의 누적값인 sc와 더하기(NaN은 0으로 처리)\n",
    "s.mul(sc).diff().where(lambda x: x<0).ffill().add(sc, fill_value=0)"
   ]
  }
 ],
 "metadata": {
  "kernelspec": {
   "display_name": "Python 3",
   "language": "python",
   "name": "python3"
  },
  "language_info": {
   "codemirror_mode": {
    "name": "ipython",
    "version": 3
   },
   "file_extension": ".py",
   "mimetype": "text/x-python",
   "name": "python",
   "nbconvert_exporter": "python",
   "pygments_lexer": "ipython3",
   "version": "3.11.9"
  }
 },
 "nbformat": 4,
 "nbformat_minor": 2
}
