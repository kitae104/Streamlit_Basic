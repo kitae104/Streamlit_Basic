{
 "cells": [
  {
   "cell_type": "code",
   "execution_count": 1,
   "metadata": {},
   "outputs": [
    {
     "data": {
      "text/html": [
       "<div>\n",
       "<style scoped>\n",
       "    .dataframe tbody tr th:only-of-type {\n",
       "        vertical-align: middle;\n",
       "    }\n",
       "\n",
       "    .dataframe tbody tr th {\n",
       "        vertical-align: top;\n",
       "    }\n",
       "\n",
       "    .dataframe thead th {\n",
       "        text-align: right;\n",
       "    }\n",
       "</style>\n",
       "<table border=\"1\" class=\"dataframe\">\n",
       "  <thead>\n",
       "    <tr style=\"text-align: right;\">\n",
       "      <th></th>\n",
       "      <th>Hotel_Name</th>\n",
       "      <th>Review</th>\n",
       "      <th>Total_Review</th>\n",
       "      <th>Location</th>\n",
       "    </tr>\n",
       "  </thead>\n",
       "  <tbody>\n",
       "    <tr>\n",
       "      <th>count</th>\n",
       "      <td>525</td>\n",
       "      <td>325</td>\n",
       "      <td>325</td>\n",
       "      <td>525</td>\n",
       "    </tr>\n",
       "    <tr>\n",
       "      <th>unique</th>\n",
       "      <td>498</td>\n",
       "      <td>8</td>\n",
       "      <td>255</td>\n",
       "      <td>25</td>\n",
       "    </tr>\n",
       "    <tr>\n",
       "      <th>top</th>\n",
       "      <td>Oakwood Residence Midtown East</td>\n",
       "      <td>Very good</td>\n",
       "      <td>1 review</td>\n",
       "      <td>Manhattan</td>\n",
       "    </tr>\n",
       "    <tr>\n",
       "      <th>freq</th>\n",
       "      <td>2</td>\n",
       "      <td>117</td>\n",
       "      <td>5</td>\n",
       "      <td>112</td>\n",
       "    </tr>\n",
       "  </tbody>\n",
       "</table>\n",
       "</div>"
      ],
      "text/plain": [
       "                            Hotel_Name      Review Total_Review    Location\n",
       "count                              525         325          325         525\n",
       "unique                             498           8          255          25\n",
       "top     Oakwood Residence Midtown East  Very good      1 review  Manhattan \n",
       "freq                                 2         117            5         112"
      ]
     },
     "execution_count": 1,
     "metadata": {},
     "output_type": "execute_result"
    }
   ],
   "source": [
    "import pandas as pd\n",
    "# describe 메서드를 이용한 데이터테이블의 범주형 통계정보 파악\n",
    "df = pd.read_csv('../datasets/bookings/bookings.csv')\n",
    "df.describe(include='object')"
   ]
  },
  {
   "cell_type": "code",
   "execution_count": 2,
   "metadata": {},
   "outputs": [
    {
     "data": {
      "text/plain": [
       "Review\n",
       "Very good         117\n",
       "Good              116\n",
       "Review score       31\n",
       "Fabulous           30\n",
       "Superb             16\n",
       "Superb 9.0          8\n",
       "Exceptional         5\n",
       "Exceptional 10      2\n",
       "Name: count, dtype: int64"
      ]
     },
     "execution_count": 2,
     "metadata": {},
     "output_type": "execute_result"
    }
   ],
   "source": [
    "# 고유값과 고유값들이 나타나는 빈도수 구하기(항목별 개수 구하기)\n",
    "df['Review'].value_counts()"
   ]
  },
  {
   "cell_type": "code",
   "execution_count": 3,
   "metadata": {},
   "outputs": [
    {
     "data": {
      "text/plain": [
       "Review\n",
       "Very good        117\n",
       "Good             116\n",
       "Review score      31\n",
       "Fabulous          30\n",
       "Superb            24\n",
       "Exceptional        7\n",
       "Name: count, dtype: int64"
      ]
     },
     "execution_count": 3,
     "metadata": {},
     "output_type": "execute_result"
    }
   ],
   "source": [
    "# review 열의 일부 값 수정 및 value_counts 메서드 재실행\n",
    "df.loc[df['Review'] == \"Superb 9.0\", \"Review\"] = \"Superb \"\n",
    "df.loc[df['Review'] == \"Exceptional 10\", \"Review\"] = \"Exceptional \"\n",
    "\n",
    "df['Review'].value_counts()"
   ]
  },
  {
   "cell_type": "code",
   "execution_count": 4,
   "metadata": {},
   "outputs": [
    {
     "data": {
      "text/plain": [
       "array(['28', '52', '2,870', '975', '13,951', '8,044', '16,148', '343',\n",
       "       '6,038', '2,028', '9,659', '4,435', '7,298', '11,455', '2,802',\n",
       "       '1,847', '2,189', '703', '1,382', '4,646', '951', '4,498', '1,475',\n",
       "       '6,245', '5,866', '959', '1,876', '848', '3,097', '3,477', '1,648',\n",
       "       '46', '2,289', '148', '664', '1,867', '1,067', '130', '920',\n",
       "       '2,560', '3,878', '1,698', '719', '7,585', '1,180', '2,035',\n",
       "       '6,144', '638', '9,240', '3,907', '3,128', '2,383', '833', '558',\n",
       "       '3,170', '2,857', '981', '192', '1,449', '1,373', '598', '3,859',\n",
       "       '3,639', '1,048', '2,859', '2,412', '749', '6,639', '1,143',\n",
       "       '2,353', '3,002', '8,844', '57', '657', '2,535', '946', '1,087',\n",
       "       '3,627', '844', '483', '1,078', '1,074', '1,797', '728', '415',\n",
       "       '766', '523', '770', '178', '464', '647', '1,225', '562',\n",
       "       '1 review', '1,188', '1,260', '4,246', '2,521', '586', '1,643',\n",
       "       '1,243', '2,623', '621', '488', '607', '1,425', '1,389', '2,014',\n",
       "       '1,000', '2,299', '595', '751', '159', '1,550', '1,030', '4,166',\n",
       "       '1,089', nan, '663', '579', '1,864', '377', '832', '718', '1,294',\n",
       "       '3,255', '495', '1,736', '1,918', '333', '234', '114', '2,620',\n",
       "       '754', '1,105', '94', '1,097', '2,446', '665', '1,169', '2,717',\n",
       "       '988', '1,046', '321', '317', '108', '76', '721', '1,420', '1,519',\n",
       "       '49', '407', '193', '4,092', '965', '307', '2,317', '2,982',\n",
       "       '3,832', '269', '1,834', '707', '425', '390', '985', '693',\n",
       "       '1,218', '113', '1,122', '966', '711', '1,220', '13', '2,533',\n",
       "       '233', '14', '553', '601', '532', '65 external  ', '1,592', '855',\n",
       "       '400', '386', '1,092', '259', '411', '865', '3,471', '723', '525',\n",
       "       '943', '1,500', '325', '1,708', '230', '227', '1,778', '53',\n",
       "       '4,288', '787', '355', '1,251', '128', '258', '125', '699', '285',\n",
       "       '109', '30', '1,754', '437', '60', '200', '2', '453', '769', '465',\n",
       "       '6', '524', '434', '372', '817', '472', '314', '168', '1,085',\n",
       "       '1,195', '1,118', '1,471', '416', '173', '352', '385', '1,482',\n",
       "       '22 external  ', '241', '497', '117', '59', '79', '3',\n",
       "       '3 external  ', '379', '42', '255', '99', '212', '602', '9', '165',\n",
       "       '146', '14 external  ', '13 external  ', '7 external  ',\n",
       "       '4 external  '], dtype=object)"
      ]
     },
     "execution_count": 4,
     "metadata": {},
     "output_type": "execute_result"
    }
   ],
   "source": [
    "# unique 메서드를 이용한 고유값 확인\n",
    "df['Total_Review'].unique()"
   ]
  },
  {
   "cell_type": "code",
   "execution_count": 5,
   "metadata": {},
   "outputs": [
    {
     "data": {
      "text/plain": [
       "count      325.000000\n",
       "mean      1771.630769\n",
       "std       2530.013514\n",
       "min          1.000000\n",
       "25%        343.000000\n",
       "50%        920.000000\n",
       "75%       2189.000000\n",
       "max      16148.000000\n",
       "Name: Total_Review, dtype: float64"
      ]
     },
     "execution_count": 5,
     "metadata": {},
     "output_type": "execute_result"
    }
   ],
   "source": [
    "# Total review 열 일부 값 수정 후 unique 메서드 재실행\n",
    "df['Total_Review'] = df['Total_Review'].map(lambda x: str(x).replace('external','').strip())\n",
    "df['Total_Review'] = df['Total_Review'].map(lambda x: str(x).replace('review','').strip())\n",
    "df['Total_Review'] = df['Total_Review'].map(lambda x: str(x).replace(',',''))\n",
    "df['Total_Review'] = df['Total_Review'].astype('float')\n",
    "df['Total_Review'].describe()"
   ]
  },
  {
   "cell_type": "markdown",
   "metadata": {},
   "source": [
    "결측치를 처리하는 fillna, dropna 메소드"
   ]
  },
  {
   "cell_type": "code",
   "execution_count": 6,
   "metadata": {},
   "outputs": [
    {
     "name": "stdout",
     "output_type": "stream",
     "text": [
      "<class 'pandas.core.frame.DataFrame'>\n",
      "RangeIndex: 525 entries, 0 to 524\n",
      "Data columns (total 5 columns):\n",
      " #   Column        Non-Null Count  Dtype  \n",
      "---  ------        --------------  -----  \n",
      " 0   Hotel_Name    525 non-null    object \n",
      " 1   Review        325 non-null    object \n",
      " 2   Total_Review  325 non-null    float64\n",
      " 3   Rating        315 non-null    float64\n",
      " 4   Location      525 non-null    object \n",
      "dtypes: float64(2), object(3)\n",
      "memory usage: 20.6+ KB\n"
     ]
    }
   ],
   "source": [
    "df.info()"
   ]
  },
  {
   "cell_type": "code",
   "execution_count": 7,
   "metadata": {},
   "outputs": [
    {
     "data": {
      "text/plain": [
       "Index([167, 168, 169, 170, 171], dtype='int64')"
      ]
     },
     "execution_count": 7,
     "metadata": {},
     "output_type": "execute_result"
    }
   ],
   "source": [
    "# bookings 데이터셋에서 \"Review\" 열이 결측치인 행의 상위 5개 인덱스 호출\n",
    "index = df[df['Rating'].isna()].head(5).index\n",
    "index"
   ]
  },
  {
   "cell_type": "code",
   "execution_count": 8,
   "metadata": {},
   "outputs": [],
   "source": [
    "# 해당 열의 평균값으로 결측치를 대체\n",
    "df['Rating'] = df['Rating'].fillna(df['Rating'].mean())"
   ]
  },
  {
   "cell_type": "code",
   "execution_count": 9,
   "metadata": {},
   "outputs": [
    {
     "data": {
      "text/plain": [
       "167    7.883492\n",
       "168    7.883492\n",
       "169    7.883492\n",
       "170    7.883492\n",
       "171    7.883492\n",
       "Name: Rating, dtype: float64"
      ]
     },
     "execution_count": 9,
     "metadata": {},
     "output_type": "execute_result"
    }
   ],
   "source": [
    "# \"Rating\"열이 결측치였던 인덱스를 재호출\n",
    "df.loc[index, 'Rating']"
   ]
  },
  {
   "cell_type": "code",
   "execution_count": 10,
   "metadata": {},
   "outputs": [
    {
     "data": {
      "text/plain": [
       "0    1.0\n",
       "1    NaN\n",
       "2    NaN\n",
       "3    2.0\n",
       "4    NaN\n",
       "5    3.0\n",
       "dtype: float64"
      ]
     },
     "execution_count": 10,
     "metadata": {},
     "output_type": "execute_result"
    }
   ],
   "source": [
    "# 결측치를 포함하는 간단한 Pandas Series를 생성\n",
    "import numpy as np\n",
    "s = pd.Series([1, np.nan, np.nan,2, np.nan, 3])\n",
    "s"
   ]
  },
  {
   "cell_type": "code",
   "execution_count": 11,
   "metadata": {},
   "outputs": [
    {
     "name": "stderr",
     "output_type": "stream",
     "text": [
      "C:\\Users\\kitae\\AppData\\Local\\Temp\\ipykernel_29524\\1624097378.py:2: FutureWarning: Series.fillna with 'method' is deprecated and will raise in a future version. Use obj.ffill() or obj.bfill() instead.\n",
      "  s.fillna(method='ffill')\n"
     ]
    },
    {
     "data": {
      "text/plain": [
       "0    1.0\n",
       "1    1.0\n",
       "2    1.0\n",
       "3    2.0\n",
       "4    2.0\n",
       "5    3.0\n",
       "dtype: float64"
      ]
     },
     "execution_count": 11,
     "metadata": {},
     "output_type": "execute_result"
    }
   ],
   "source": [
    "# 결측치 이전에 있던 값으로 결측치를 대체\n",
    "s.fillna(method='ffill')"
   ]
  },
  {
   "cell_type": "code",
   "execution_count": 12,
   "metadata": {},
   "outputs": [
    {
     "name": "stderr",
     "output_type": "stream",
     "text": [
      "C:\\Users\\kitae\\AppData\\Local\\Temp\\ipykernel_29524\\179677379.py:2: FutureWarning: Series.fillna with 'method' is deprecated and will raise in a future version. Use obj.ffill() or obj.bfill() instead.\n",
      "  s.fillna(method='bfill')\n"
     ]
    },
    {
     "data": {
      "text/plain": [
       "0    1.0\n",
       "1    2.0\n",
       "2    2.0\n",
       "3    2.0\n",
       "4    3.0\n",
       "5    3.0\n",
       "dtype: float64"
      ]
     },
     "execution_count": 12,
     "metadata": {},
     "output_type": "execute_result"
    }
   ],
   "source": [
    "# 결측치 이후에 나오는 값으로 이전 결측치를 대체\n",
    "s.fillna(method='bfill')"
   ]
  },
  {
   "cell_type": "code",
   "execution_count": 13,
   "metadata": {},
   "outputs": [
    {
     "name": "stdout",
     "output_type": "stream",
     "text": [
      "<class 'pandas.core.frame.DataFrame'>\n",
      "Index: 317 entries, 0 to 343\n",
      "Data columns (total 5 columns):\n",
      " #   Column        Non-Null Count  Dtype  \n",
      "---  ------        --------------  -----  \n",
      " 0   Hotel_Name    317 non-null    object \n",
      " 1   Review        317 non-null    object \n",
      " 2   Total_Review  317 non-null    float64\n",
      " 3   Rating        317 non-null    float64\n",
      " 4   Location      317 non-null    object \n",
      "dtypes: float64(2), object(3)\n",
      "memory usage: 14.9+ KB\n"
     ]
    }
   ],
   "source": [
    "# dropna 메서드를 이용한 결측치 제거(결측치가 있는 행을 삭제)\n",
    "df = df.dropna()\n",
    "df.info()"
   ]
  },
  {
   "cell_type": "markdown",
   "metadata": {},
   "source": [
    "데이터의 분위수를 구하는 quantile 메소드"
   ]
  },
  {
   "cell_type": "code",
   "execution_count": 2,
   "metadata": {},
   "outputs": [],
   "source": [
    "import pandas as pd\n",
    "# booking 데이터셋을 불러와 total review 열의 값 수정\n",
    "df = pd.read_csv('../datasets/bookings/bookings.csv')\n",
    "\n",
    "# Total_Review 열에서 문자열 데이터를 치환하여 수치형 데이터로 변환\n",
    "df['Total_Review'] = df['Total_Review'].map(lambda x: str(x).replace('external','').strip())\n",
    "df['Total_Review'] = df['Total_Review'].map(lambda x: str(x).replace('review','').strip())\n",
    "df['Total_Review'] = df['Total_Review'].map(lambda x: str(x).replace(',',''))\n",
    "df['Total_Review'] = df['Total_Review'].astype('float')"
   ]
  },
  {
   "cell_type": "code",
   "execution_count": 4,
   "metadata": {},
   "outputs": [
    {
     "name": "stdout",
     "output_type": "stream",
     "text": [
      "quantile(0) is 1.0\n",
      "quantile(0.2) is 227.0\n",
      "quantile(0.4) is 657.0\n",
      "quantile(0.6) is 1169.0\n",
      "quantile(0.8) is 2620.0\n",
      "quantile(1) is 16148.0\n"
     ]
    }
   ],
   "source": [
    "# Total review 열의 값을 0부터 1까지의 0.2 단위 분위수 구하기\n",
    "quantile = [0, 0.2, 0.4, 0.6, 0.8, 1]\n",
    "\n",
    "# interpolate='lower'를 사용하여 하위 정수값을 반환(예: 1.4 -> 1)\n",
    "# interpolate='higher'를 사용하여 상위 정수값을 반환(예: 1.4 -> 2)\n",
    "# interpolate='midpoint'를 사용하여 중간값을 반환(예: 1.4 -> 1.5)\n",
    "# interpolate='nearest'를 사용하여 가장 가까운 정수값을 반환(예: 1.4 -> 1)\n",
    "for idx in quantile:\n",
    "    q = df['Total_Review'].quantile(idx, interpolation='lower')\n",
    "    print(f'quantile({idx}) is {q}')"
   ]
  },
  {
   "cell_type": "code",
   "execution_count": 5,
   "metadata": {},
   "outputs": [
    {
     "name": "stdout",
     "output_type": "stream",
     "text": [
      "quantile(0) is 1.0\n",
      "quantile(0.2) is 230.0\n",
      "quantile(0.4) is 663.0\n",
      "quantile(0.6) is 1169.0\n",
      "quantile(0.8) is 2620.0\n",
      "quantile(1) is 16148.0\n"
     ]
    }
   ],
   "source": [
    "# quantile 메서드의 interpolation 인자 수정\n",
    "for idx in quantile:\n",
    "    q = df['Total_Review'].quantile(idx, interpolation='nearest')\n",
    "    print(f'quantile({idx}) is {q}')"
   ]
  },
  {
   "cell_type": "markdown",
   "metadata": {},
   "source": [
    "원하는 데이터만 필터링 하는 query 메소드"
   ]
  },
  {
   "cell_type": "code",
   "execution_count": null,
   "metadata": {},
   "outputs": [],
   "source": []
  }
 ],
 "metadata": {
  "kernelspec": {
   "display_name": "Python 3",
   "language": "python",
   "name": "python3"
  },
  "language_info": {
   "codemirror_mode": {
    "name": "ipython",
    "version": 3
   },
   "file_extension": ".py",
   "mimetype": "text/x-python",
   "name": "python",
   "nbconvert_exporter": "python",
   "pygments_lexer": "ipython3",
   "version": "3.11.6"
  }
 },
 "nbformat": 4,
 "nbformat_minor": 2
}
