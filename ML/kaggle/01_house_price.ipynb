{
 "cells": [
  {
   "cell_type": "markdown",
   "metadata": {},
   "source": [
    "라이브러리 확인"
   ]
  },
  {
   "cell_type": "code",
   "execution_count": 9,
   "metadata": {},
   "outputs": [],
   "source": [
    "import seaborn as sns                                                                     # 데이터 시각화 라이브러리\n",
    "import pandas as pd       \n",
    "import numpy as np                                                                # 데이터 처리 라이브러리\n",
    "from sklearn.model_selection import train_test_split, RandomizedSearchCV                  # 학습 데이터와 테스트 데이터로 나누는 라이브러리\n",
    "from sklearn.impute import SimpleImputer                                                  # 결측치 처리 라이브러리                          \n",
    "from sklearn.compose import ColumnTransformer                                             # \n",
    "from sklearn.pipeline import Pipeline                                                     # 파이프라인을 만들기 위한 라이브러리                     \n",
    "from sklearn.tree import DecisionTreeRegressor                                            # 결정트리 회귀 모델 라이브러리       \n",
    "from sklearn.metrics import accuracy_score, precision_score, recall_score, f1_score       # 모델 평가 라이브러리\n",
    "from sklearn.preprocessing import OneHotEncoder, StandardScaler                           # 원핫인코딩, 표준화 라이브러리"
   ]
  },
  {
   "cell_type": "markdown",
   "metadata": {},
   "source": [
    "데이터"
   ]
  },
  {
   "cell_type": "code",
   "execution_count": 2,
   "metadata": {},
   "outputs": [
    {
     "name": "stdout",
     "output_type": "stream",
     "text": [
      "<class 'pandas.core.frame.DataFrame'>\n",
      "RangeIndex: 1460 entries, 0 to 1459\n",
      "Data columns (total 80 columns):\n",
      " #   Column         Non-Null Count  Dtype  \n",
      "---  ------         --------------  -----  \n",
      " 0   Id             1460 non-null   int64  \n",
      " 1   MSSubClass     1460 non-null   int64  \n",
      " 2   MSZoning       1460 non-null   object \n",
      " 3   LotFrontage    1201 non-null   float64\n",
      " 4   LotArea        1460 non-null   int64  \n",
      " 5   Street         1460 non-null   object \n",
      " 6   Alley          91 non-null     object \n",
      " 7   LotShape       1460 non-null   object \n",
      " 8   LandContour    1460 non-null   object \n",
      " 9   Utilities      1460 non-null   object \n",
      " 10  LotConfig      1460 non-null   object \n",
      " 11  LandSlope      1460 non-null   object \n",
      " 12  Neighborhood   1460 non-null   object \n",
      " 13  Condition1     1460 non-null   object \n",
      " 14  Condition2     1460 non-null   object \n",
      " 15  BldgType       1460 non-null   object \n",
      " 16  HouseStyle     1460 non-null   object \n",
      " 17  OverallQual    1460 non-null   int64  \n",
      " 18  OverallCond    1460 non-null   int64  \n",
      " 19  YearBuilt      1460 non-null   int64  \n",
      " 20  YearRemodAdd   1460 non-null   int64  \n",
      " 21  RoofStyle      1460 non-null   object \n",
      " 22  RoofMatl       1460 non-null   object \n",
      " 23  Exterior1st    1460 non-null   object \n",
      " 24  Exterior2nd    1460 non-null   object \n",
      " 25  MasVnrType     1452 non-null   object \n",
      " 26  MasVnrArea     1452 non-null   float64\n",
      " 27  ExterQual      1460 non-null   object \n",
      " 28  ExterCond      1460 non-null   object \n",
      " 29  Foundation     1460 non-null   object \n",
      " 30  BsmtQual       1423 non-null   object \n",
      " 31  BsmtCond       1423 non-null   object \n",
      " 32  BsmtExposure   1422 non-null   object \n",
      " 33  BsmtFinType1   1423 non-null   object \n",
      " 34  BsmtFinSF1     1460 non-null   int64  \n",
      " 35  BsmtFinType2   1422 non-null   object \n",
      " 36  BsmtFinSF2     1460 non-null   int64  \n",
      " 37  BsmtUnfSF      1460 non-null   int64  \n",
      " 38  TotalBsmtSF    1460 non-null   int64  \n",
      " 39  Heating        1460 non-null   object \n",
      " 40  HeatingQC      1460 non-null   object \n",
      " 41  CentralAir     1460 non-null   object \n",
      " 42  Electrical     1459 non-null   object \n",
      " 43  1stFlrSF       1460 non-null   int64  \n",
      " 44  2ndFlrSF       1460 non-null   int64  \n",
      " 45  LowQualFinSF   1460 non-null   int64  \n",
      " 46  GrLivArea      1460 non-null   int64  \n",
      " 47  BsmtFullBath   1460 non-null   int64  \n",
      " 48  BsmtHalfBath   1460 non-null   int64  \n",
      " 49  FullBath       1460 non-null   int64  \n",
      " 50  HalfBath       1460 non-null   int64  \n",
      " 51  BedroomAbvGr   1460 non-null   int64  \n",
      " 52  KitchenAbvGr   1460 non-null   int64  \n",
      " 53  KitchenQual    1460 non-null   object \n",
      " 54  TotRmsAbvGrd   1460 non-null   int64  \n",
      " 55  Functional     1460 non-null   object \n",
      " 56  Fireplaces     1460 non-null   int64  \n",
      " 57  FireplaceQu    770 non-null    object \n",
      " 58  GarageType     1379 non-null   object \n",
      " 59  GarageYrBlt    1379 non-null   float64\n",
      " 60  GarageFinish   1379 non-null   object \n",
      " 61  GarageCars     1460 non-null   int64  \n",
      " 62  GarageArea     1460 non-null   int64  \n",
      " 63  GarageQual     1379 non-null   object \n",
      " 64  GarageCond     1379 non-null   object \n",
      " 65  PavedDrive     1460 non-null   object \n",
      " 66  WoodDeckSF     1460 non-null   int64  \n",
      " 67  OpenPorchSF    1460 non-null   int64  \n",
      " 68  EnclosedPorch  1460 non-null   int64  \n",
      " 69  3SsnPorch      1460 non-null   int64  \n",
      " 70  ScreenPorch    1460 non-null   int64  \n",
      " 71  PoolArea       1460 non-null   int64  \n",
      " 72  PoolQC         7 non-null      object \n",
      " 73  Fence          281 non-null    object \n",
      " 74  MiscFeature    54 non-null     object \n",
      " 75  MiscVal        1460 non-null   int64  \n",
      " 76  MoSold         1460 non-null   int64  \n",
      " 77  YrSold         1460 non-null   int64  \n",
      " 78  SaleType       1460 non-null   object \n",
      " 79  SaleCondition  1460 non-null   object \n",
      "dtypes: float64(3), int64(34), object(43)\n",
      "memory usage: 912.6+ KB\n"
     ]
    }
   ],
   "source": [
    "# 데이터 불러오기\n",
    "submission = pd.read_csv('./house-prices/sample_submission.csv')\n",
    "train = pd.read_csv('./house-prices/train.csv')\n",
    "test = pd.read_csv('./house-prices/test.csv')\n",
    "\n",
    "# 데이터 분리 \n",
    "y = train['SalePrice']                      # SalePrice 컬럼을 y 데이터로 사용\n",
    "train = train.drop('SalePrice', axis=1)     # SalePrice 컬럼을 삭제한 데이터를 train 데이터로 사용\n",
    "train.info()"
   ]
  },
  {
   "cell_type": "markdown",
   "metadata": {},
   "source": [
    "탐색적 자료 분석 : 불 필요한 변수 제거 "
   ]
  },
  {
   "cell_type": "code",
   "execution_count": 7,
   "metadata": {},
   "outputs": [],
   "source": [
    "numerical_cols = train.select_dtypes(include=['int64', 'float64']).columns      # 수치 데이터 컬럼만 추출\n",
    "categorical_cols = train.select_dtypes(include=['object']).columns              # 범주형 데이터 컬럼만 추출\n",
    "\n",
    "# 수치 데이터 전처리(결측치 처리, 표준화)\n",
    "numerical_transformer = Pipeline(steps=[\n",
    "    ('imputer', SimpleImputer(strategy='median')),      # 결측치를 중앙값으로 채우기\n",
    "    ('scaler', StandardScaler())                        # 표준화\n",
    "])\n",
    "\n",
    "# 범주형 데이터 전처리(결측치 처리, 원핫인코딩)\n",
    "categorical_transformer = Pipeline(steps=[\n",
    "    ('imputer', SimpleImputer(strategy='most_frequent')),   # 결측치를 최빈값으로 채우기\n",
    "    ('onehot', OneHotEncoder(handle_unknown='ignore'))      # 원핫인코딩\n",
    "])\n",
    "\n",
    "# 전처리 파이프라인 만들기\n",
    "preprocessor = ColumnTransformer(\n",
    "    transformers=[\n",
    "        ('num', numerical_transformer, numerical_cols),       # 수치 데이터 파이프라인\n",
    "        ('cat', categorical_transformer, categorical_cols)    # 범주형 데이터 파이프라인\n",
    "    ])"
   ]
  },
  {
   "cell_type": "markdown",
   "metadata": {},
   "source": [
    "모델 정의"
   ]
  },
  {
   "cell_type": "code",
   "execution_count": 10,
   "metadata": {},
   "outputs": [
    {
     "name": "stdout",
     "output_type": "stream",
     "text": [
      "최적 하이퍼파라미터:  {'regressor__min_samples_split': 8, 'regressor__min_samples_leaf': 2, 'regressor__max_depth': 7}\n"
     ]
    }
   ],
   "source": [
    "model = DecisionTreeRegressor()   # 모델 생성\n",
    "\n",
    "# 파이프라인 구축 \n",
    "pipline = Pipeline(steps=[('preprocessor', preprocessor), ('regressor', model)])    # 전처리 파이프라인과 모델을 연결\n",
    "\n",
    "# 랜덤 서치 \n",
    "# 훈련/ 테스트 데이터 분리 \n",
    "X_train, X_valid, y_train, y_valid = train_test_split(train, y, test_size=0.2, random_state=0)   # 훈련 데이터와 테스트 데이터로 분리\n",
    "\n",
    "# 랜덤 서치를 위한 하이퍼파라미터 설정\n",
    "param_distributions = {\n",
    "    # 'preprocessor__num__imputer__strategy': ['mean', 'median'],           # 수치 데이터 결측치 처리 전략\n",
    "    'regressor__max_depth': np.concatenate((np.arange(3, 11), [None])),     # 결정트리의 최대 깊이\n",
    "    'regressor__min_samples_split': np.arange(2, 11),                       # 분할되기 위해 노드가 가져야 하는 최소 샘플 수\n",
    "    'regressor__min_samples_leaf': np.arange(1, 5)                          # 리프 노드가 가져야 하는 최소 샘플 수\n",
    "}\n",
    "\n",
    "random_search = RandomizedSearchCV(pipline, param_distributions, n_iter=10, cv=5, random_state=0)  # 랜덤 서치\n",
    "random_search.fit(X_train, y_train)   # 랜덤 서치 훈련\n",
    "\n",
    "print('최적 하이퍼파라미터: ', random_search.best_params_)   # 최적 하이퍼파라미터 출력"
   ]
  },
  {
   "cell_type": "markdown",
   "metadata": {},
   "source": [
    "모델 예측 및 평가 "
   ]
  }
 ],
 "metadata": {
  "kernelspec": {
   "display_name": "Python 3",
   "language": "python",
   "name": "python3"
  },
  "language_info": {
   "codemirror_mode": {
    "name": "ipython",
    "version": 3
   },
   "file_extension": ".py",
   "mimetype": "text/x-python",
   "name": "python",
   "nbconvert_exporter": "python",
   "pygments_lexer": "ipython3",
   "version": "3.11.0"
  }
 },
 "nbformat": 4,
 "nbformat_minor": 2
}
