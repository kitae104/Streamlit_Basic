{
 "cells": [
  {
   "cell_type": "markdown",
   "metadata": {},
   "source": [
    "자동차 도로(car)"
   ]
  },
  {
   "cell_type": "code",
   "execution_count": 2,
   "metadata": {},
   "outputs": [
    {
     "name": "stderr",
     "output_type": "stream",
     "text": [
      "Downloading...\n",
      "From: https://drive.google.com/uc?id=1hl_NNFciFwImmqplL3RkozpiIa8I38cd&confirm=t\n",
      "To: d:\\Github\\Vision_WS\\Yolo_Detect\\Test_Videos\\demo.mp4\n",
      "\n",
      "  0%|          | 0.00/11.5M [00:00<?, ?B/s]\n",
      "  5%|▍         | 524k/11.5M [00:00<00:06, 1.65MB/s]\n",
      "  9%|▉         | 1.05M/11.5M [00:00<00:03, 2.66MB/s]\n",
      " 23%|██▎       | 2.62M/11.5M [00:00<00:02, 4.03MB/s]\n",
      " 37%|███▋      | 4.19M/11.5M [00:00<00:01, 6.21MB/s]\n",
      " 50%|█████     | 5.77M/11.5M [00:01<00:00, 7.62MB/s]\n",
      " 59%|█████▉    | 6.82M/11.5M [00:01<00:00, 8.11MB/s]\n",
      " 68%|██████▊   | 7.86M/11.5M [00:01<00:00, 8.04MB/s]\n",
      " 78%|███████▊  | 8.91M/11.5M [00:01<00:00, 8.11MB/s]\n",
      " 87%|████████▋ | 9.96M/11.5M [00:01<00:00, 8.24MB/s]\n",
      " 96%|█████████▌| 11.0M/11.5M [00:01<00:00, 8.26MB/s]\n",
      "100%|██████████| 11.5M/11.5M [00:01<00:00, 6.85MB/s]\n"
     ]
    }
   ],
   "source": [
    "!gdown \"https://drive.google.com/uc?id=1hl_NNFciFwImmqplL3RkozpiIa8I38cd&confirm=t\""
   ]
  },
  {
   "cell_type": "markdown",
   "metadata": {},
   "source": [
    "거리 사람들(testwalk)"
   ]
  },
  {
   "cell_type": "code",
   "execution_count": 2,
   "metadata": {},
   "outputs": [
    {
     "name": "stderr",
     "output_type": "stream",
     "text": [
      "Downloading...\n",
      "From: https://drive.google.com/uc?id=115RBSjNQ_1zjvKFRsQK2zE8v8BIRrpdy&confirm=t\n",
      "To: d:\\Github\\Vision_WS\\Yolo_Detect\\Test_Videos\\testwalk.mp4\n",
      "\n",
      "  0%|          | 0.00/7.61M [00:00<?, ?B/s]\n",
      "  7%|▋         | 524k/7.61M [00:00<00:07, 1.00MB/s]\n",
      " 14%|█▍        | 1.05M/7.61M [00:00<00:03, 1.65MB/s]\n",
      " 21%|██        | 1.57M/7.61M [00:00<00:03, 1.92MB/s]\n",
      " 28%|██▊       | 2.10M/7.61M [00:01<00:02, 2.50MB/s]\n",
      " 48%|████▊     | 3.67M/7.61M [00:01<00:00, 4.73MB/s]\n",
      " 62%|██████▏   | 4.72M/7.61M [00:01<00:00, 5.07MB/s]\n",
      " 76%|███████▌  | 5.77M/7.61M [00:01<00:00, 4.60MB/s]\n",
      " 83%|████████▎ | 6.29M/7.61M [00:01<00:00, 4.58MB/s]\n",
      " 96%|█████████▋| 7.34M/7.61M [00:01<00:00, 5.54MB/s]\n",
      "100%|██████████| 7.61M/7.61M [00:01<00:00, 3.84MB/s]\n"
     ]
    }
   ],
   "source": [
    "!gdown \"https://drive.google.com/uc?id=115RBSjNQ_1zjvKFRsQK2zE8v8BIRrpdy&confirm=t\""
   ]
  },
  {
   "cell_type": "markdown",
   "metadata": {},
   "source": [
    "potholes 데모 비디오"
   ]
  },
  {
   "cell_type": "code",
   "execution_count": 1,
   "metadata": {},
   "outputs": [
    {
     "name": "stderr",
     "output_type": "stream",
     "text": [
      "Downloading...\n",
      "From: https://drive.google.com/uc?id=1iMitK9VCUWmBcZiiEPHK1d2pydALof6s&confirm=t\n",
      "To: d:\\Github\\Vision_WS\\Yolo_Detect\\Test_Videos\\demo.mp4\n",
      "\n",
      "  0%|          | 0.00/4.39M [00:00<?, ?B/s]\n",
      " 12%|█▏        | 524k/4.39M [00:00<00:01, 2.27MB/s]\n",
      " 24%|██▍       | 1.05M/4.39M [00:00<00:00, 3.39MB/s]\n",
      " 48%|████▊     | 2.10M/4.39M [00:00<00:00, 4.68MB/s]\n",
      " 72%|███████▏  | 3.15M/4.39M [00:00<00:00, 5.42MB/s]\n",
      " 96%|█████████▌| 4.19M/4.39M [00:00<00:00, 5.76MB/s]\n",
      "100%|██████████| 4.39M/4.39M [00:00<00:00, 5.06MB/s]\n"
     ]
    }
   ],
   "source": [
    "!gdown \"https://drive.google.com/uc?id=1iMitK9VCUWmBcZiiEPHK1d2pydALof6s&confirm=t\""
   ]
  },
  {
   "cell_type": "markdown",
   "metadata": {},
   "source": [
    "자동차 도로(car_short)"
   ]
  },
  {
   "cell_type": "code",
   "execution_count": 1,
   "metadata": {},
   "outputs": [
    {
     "name": "stderr",
     "output_type": "stream",
     "text": [
      "Downloading...\n",
      "From: https://drive.google.com/uc?id=1rjBn8Fl1E_9d0EMVtL24S9aNQOJAveR5&confirm=t\n",
      "To: d:\\Github\\Vision_WS\\Yolo_Detect\\Test_Videos\\test3.mp4\n",
      "\n",
      "  0%|          | 0.00/4.98M [00:00<?, ?B/s]\n",
      " 11%|█         | 524k/4.98M [00:00<00:02, 1.51MB/s]\n",
      " 32%|███▏      | 1.57M/4.98M [00:00<00:00, 3.91MB/s]\n",
      " 53%|█████▎    | 2.62M/4.98M [00:00<00:00, 4.52MB/s]\n",
      "100%|██████████| 4.98M/4.98M [00:00<00:00, 8.85MB/s]\n",
      "100%|██████████| 4.98M/4.98M [00:00<00:00, 6.42MB/s]\n"
     ]
    }
   ],
   "source": [
    "!gdown \"https://drive.google.com/uc?id=1rjBn8Fl1E_9d0EMVtL24S9aNQOJAveR5&confirm=t\""
   ]
  }
 ],
 "metadata": {
  "kernelspec": {
   "display_name": "visionenv",
   "language": "python",
   "name": "python3"
  },
  "language_info": {
   "codemirror_mode": {
    "name": "ipython",
    "version": 3
   },
   "file_extension": ".py",
   "mimetype": "text/x-python",
   "name": "python",
   "nbconvert_exporter": "python",
   "pygments_lexer": "ipython3",
   "version": "3.12.2"
  }
 },
 "nbformat": 4,
 "nbformat_minor": 2
}
