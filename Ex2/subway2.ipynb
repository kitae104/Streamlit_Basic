{
 "cells": [
  {
   "cell_type": "markdown",
   "metadata": {},
   "source": [
    "### 1. 날짜별 승차 및 하차 인원 분석\n",
    "날짜별로 승차 및 하차 인원을 집계하고, 상위 5일의 데이터를 표시하겠습니다."
   ]
  },
  {
   "cell_type": "code",
   "execution_count": 1,
   "metadata": {},
   "outputs": [
    {
     "data": {
      "text/html": [
       "<div>\n",
       "<style scoped>\n",
       "    .dataframe tbody tr th:only-of-type {\n",
       "        vertical-align: middle;\n",
       "    }\n",
       "\n",
       "    .dataframe tbody tr th {\n",
       "        vertical-align: top;\n",
       "    }\n",
       "\n",
       "    .dataframe thead th {\n",
       "        text-align: right;\n",
       "    }\n",
       "</style>\n",
       "<table border=\"1\" class=\"dataframe\">\n",
       "  <thead>\n",
       "    <tr style=\"text-align: right;\">\n",
       "      <th></th>\n",
       "      <th>역명</th>\n",
       "      <th>일자</th>\n",
       "      <th>이용인원</th>\n",
       "      <th>승차인원</th>\n",
       "      <th>하차인원</th>\n",
       "    </tr>\n",
       "  </thead>\n",
       "  <tbody>\n",
       "    <tr>\n",
       "      <th>0</th>\n",
       "      <td>계양</td>\n",
       "      <td>2023-06-01</td>\n",
       "      <td>8360</td>\n",
       "      <td>4264</td>\n",
       "      <td>4096</td>\n",
       "    </tr>\n",
       "    <tr>\n",
       "      <th>1</th>\n",
       "      <td>귤현</td>\n",
       "      <td>2023-06-01</td>\n",
       "      <td>2793</td>\n",
       "      <td>1084</td>\n",
       "      <td>1709</td>\n",
       "    </tr>\n",
       "    <tr>\n",
       "      <th>2</th>\n",
       "      <td>박촌</td>\n",
       "      <td>2023-06-01</td>\n",
       "      <td>7998</td>\n",
       "      <td>4206</td>\n",
       "      <td>3792</td>\n",
       "    </tr>\n",
       "    <tr>\n",
       "      <th>3</th>\n",
       "      <td>임학</td>\n",
       "      <td>2023-06-01</td>\n",
       "      <td>16947</td>\n",
       "      <td>8552</td>\n",
       "      <td>8395</td>\n",
       "    </tr>\n",
       "    <tr>\n",
       "      <th>4</th>\n",
       "      <td>계산</td>\n",
       "      <td>2023-06-01</td>\n",
       "      <td>23140</td>\n",
       "      <td>11764</td>\n",
       "      <td>11376</td>\n",
       "    </tr>\n",
       "  </tbody>\n",
       "</table>\n",
       "</div>"
      ],
      "text/plain": [
       "   역명          일자   이용인원   승차인원   하차인원\n",
       "0  계양  2023-06-01   8360   4264   4096\n",
       "1  귤현  2023-06-01   2793   1084   1709\n",
       "2  박촌  2023-06-01   7998   4206   3792\n",
       "3  임학  2023-06-01  16947   8552   8395\n",
       "4  계산  2023-06-01  23140  11764  11376"
      ]
     },
     "execution_count": 1,
     "metadata": {},
     "output_type": "execute_result"
    }
   ],
   "source": [
    "import pandas as pd\n",
    "\n",
    "df = pd.read_csv('인천교통공사_1호선 일별 승하차현황_20240630.csv', header=0)\n",
    "df.head()"
   ]
  },
  {
   "cell_type": "code",
   "execution_count": 2,
   "metadata": {},
   "outputs": [
    {
     "name": "stdout",
     "output_type": "stream",
     "text": [
      "0   2023-06-01\n",
      "1   2023-06-01\n",
      "Name: 일자, dtype: datetime64[ns]\n"
     ]
    }
   ],
   "source": [
    "# 날짜 데이터 타입으로 변경\n",
    "df['일자'] = pd.to_datetime(df['일자'])\n",
    "print(df['일자'][0:2])"
   ]
  },
  {
   "cell_type": "code",
   "execution_count": 3,
   "metadata": {},
   "outputs": [
    {
     "name": "stdout",
     "output_type": "stream",
     "text": [
      "219938 217187\n"
     ]
    }
   ],
   "source": [
    "# 2023-06-01 데이터 확인하기 \n",
    "# print(data.iloc[0:29, 0:5])\n",
    "# print(data.loc[0:29, '역명':'하차인원'])\n",
    "one_day = df.loc[0:29, '역명':'하차인원']\n",
    "# print(one_day)\n",
    "\n",
    "sum1 = one_day['승차인원'].sum()\n",
    "sum2 = one_day['하차인원'].sum()\n",
    "print(sum1, sum2)"
   ]
  },
  {
   "cell_type": "code",
   "execution_count": 4,
   "metadata": {},
   "outputs": [
    {
     "name": "stdout",
     "output_type": "stream",
     "text": [
      "            역명   이용인원   승차인원   하차인원\n",
      "일자                                 \n",
      "2023-06-01  계양   8360   4264   4096\n",
      "2023-06-01  귤현   2793   1084   1709\n",
      "2023-06-01  박촌   7998   4206   3792\n",
      "2023-06-01  임학  16947   8552   8395\n",
      "2023-06-01  계산  23140  11764  11376\n"
     ]
    }
   ],
   "source": [
    "# 일자를 인덱스로 설정\n",
    "df = df.set_index('일자')\n",
    "print(df.head())"
   ]
  },
  {
   "cell_type": "code",
   "execution_count": 5,
   "metadata": {},
   "outputs": [
    {
     "name": "stdout",
     "output_type": "stream",
     "text": [
      "              승차인원    하차인원\n",
      "일자                        \n",
      "2023-06-01  219938  217187\n",
      "2023-06-02  226864  224479\n",
      "2023-06-03  172745  171941\n",
      "2023-06-04  129082  128686\n",
      "2023-06-05  200526  198122\n"
     ]
    }
   ],
   "source": [
    "# 날짜별로 그룹화하여 총 승차인원 and 하차인원 계산\n",
    "daily_stats = df.groupby('일자')[['승차인원', '하차인원']].sum()\n",
    "print(daily_stats.head())"
   ]
  },
  {
   "cell_type": "code",
   "execution_count": 6,
   "metadata": {},
   "outputs": [
    {
     "name": "stdout",
     "output_type": "stream",
     "text": [
      "              승차인원    하차인원\n",
      "일자                        \n",
      "2024-05-03  242122  240857\n",
      "2024-05-14  239222  236939\n",
      "2024-05-24  237051  235638\n",
      "2024-04-26  233850  232073\n",
      "2024-06-05  232677  230915\n"
     ]
    }
   ],
   "source": [
    "# 일자별 승차인원 상위 5개\n",
    "day_top5_get_on = daily_stats.sort_values(by='승차인원', ascending=False).head()\n",
    "print(day_top5_get_on)"
   ]
  },
  {
   "cell_type": "code",
   "execution_count": 9,
   "metadata": {},
   "outputs": [
    {
     "name": "stdout",
     "output_type": "stream",
     "text": [
      "2024-04-20의 승차인원: 151879 명\n",
      "2024-04-20의 하치인원: 150855 명\n"
     ]
    }
   ],
   "source": [
    "date = input(\"Enter the date (YYYY-MM-DD): \")\n",
    "passengers_get_on = daily_stats.loc[date, '승차인원']\n",
    "passengers_get_off = daily_stats.loc[date, '하차인원']\n",
    "print(f\"{date}의 승차인원: {passengers_get_on} 명\")\n",
    "print(f\"{date}의 하치인원: {passengers_get_off} 명\")"
   ]
  },
  {
   "cell_type": "code",
   "execution_count": 10,
   "metadata": {},
   "outputs": [
    {
     "name": "stdout",
     "output_type": "stream",
     "text": [
      "          일자  역명   이용인원   승차인원   하차인원\n",
      "0 2023-06-01  계양   8360   4264   4096\n",
      "1 2023-06-01  귤현   2793   1084   1709\n",
      "2 2023-06-01  박촌   7998   4206   3792\n",
      "3 2023-06-01  임학  16947   8552   8395\n",
      "4 2023-06-01  계산  23140  11764  11376\n"
     ]
    }
   ],
   "source": [
    "# 인덱스 해제하기 \n",
    "df = df.reset_index()\n",
    "print(df.head())"
   ]
  },
  {
   "cell_type": "code",
   "execution_count": 11,
   "metadata": {},
   "outputs": [
    {
     "name": "stdout",
     "output_type": "stream",
     "text": [
      "          일자  역명   이용인원   승차인원   하차인원        월\n",
      "0 2023-06-01  계양   8360   4264   4096  2023-06\n",
      "1 2023-06-01  귤현   2793   1084   1709  2023-06\n",
      "2 2023-06-01  박촌   7998   4206   3792  2023-06\n",
      "3 2023-06-01  임학  16947   8552   8395  2023-06\n",
      "4 2023-06-01  계산  23140  11764  11376  2023-06\n"
     ]
    }
   ],
   "source": [
    "# 일자로 부터 새로운 '월' 컬럼 추가하기\n",
    "df['월'] = df['일자'].dt.to_period('M')\n",
    "print(df.head())"
   ]
  },
  {
   "cell_type": "code",
   "execution_count": 13,
   "metadata": {},
   "outputs": [
    {
     "name": "stdout",
     "output_type": "stream",
     "text": [
      "          월     승차인원     하차인원\n",
      "0   2023-06  5677564  5627311\n",
      "1   2023-07  5462873  5411578\n",
      "2   2023-08  5389670  5353541\n",
      "3   2023-09  5563959  5512548\n",
      "4   2023-10  5788173  5736334\n",
      "5   2023-11  5686852  5633143\n",
      "6   2023-12  5604019  5560245\n",
      "7   2024-01  5401094  5360521\n",
      "8   2024-02  5012240  4974018\n",
      "9   2024-03  5882913  5832939\n",
      "10  2024-04  5959040  5910593\n",
      "11  2024-05  6118786  6067848\n",
      "12  2024-06  5602824  5559089\n"
     ]
    }
   ],
   "source": [
    "# 월별로 그룹화하여 총 승차인원 and 하차인원 계산\n",
    "monthly_stats = df.groupby('월')[['승차인원', '하차인원']].sum().reset_index()\n",
    "print(monthly_stats)"
   ]
  },
  {
   "cell_type": "code",
   "execution_count": 18,
   "metadata": {},
   "outputs": [
    {
     "name": "stdout",
     "output_type": "stream",
     "text": [
      "2024-01의 승차인원: 5401094 명\n",
      "2024-01의 하차인원: 5360521 명\n"
     ]
    }
   ],
   "source": [
    "month = input(\"Enter the month (YYYY-MM): \")\n",
    "passengers_get_on = monthly_stats.loc[monthly_stats['월'] == month, '승차인원'].values[0]\n",
    "passengers_get_off = monthly_stats.loc[monthly_stats['월'] == month, '하차인원'].values[0]\n",
    "print(f\"{month}의 승차인원: {passengers_get_on} 명\")\n",
    "print(f\"{month}의 하차인원: {passengers_get_off} 명\")"
   ]
  },
  {
   "cell_type": "code",
   "execution_count": 19,
   "metadata": {},
   "outputs": [
    {
     "data": {
      "image/png": "[encoded data removed]",
      "text/plain": [
       "<Figure size 1200x600 with 1 Axes>"
      ]
     },
     "metadata": {},
     "output_type": "display_data"
    }
   ],
   "source": [
    "import matplotlib.pyplot as plt\n",
    "import matplotlib.font_manager as fm\n",
    "font_path = 'C:/Windows/Fonts/malgun.ttf'  # Windows 예시\n",
    "font_name = fm.FontProperties(fname=font_path).get_name()\n",
    "plt.rc('font', family=font_name)\n",
    "plt.figure(figsize=(12, 6))\n",
    "plt.plot(monthly_stats['월'].astype(str), monthly_stats['승차인원'], marker='o', label='승차인원')\n",
    "plt.plot(monthly_stats['월'].astype(str), monthly_stats['하차인원'], marker='^', label='하차인원')\n",
    "plt.bar(month, passengers_get_on, label='승차인원', color='skyblue')\n",
    "plt.title('월별 승차 및 하차 인원 추이')\n",
    "plt.xlabel('월')\n",
    "plt.ylabel('인원 수')\n",
    "plt.legend()\n",
    "# plt.ylim(4000000, 7000000)\n",
    "plt.xticks(rotation=45)\n",
    "plt.show()"
   ]
  }
 ],
 "metadata": {
  "kernelspec": {
   "display_name": "Python 3",
   "language": "python",
   "name": "python3"
  },
  "language_info": {
   "codemirror_mode": {
    "name": "ipython",
    "version": 3
   },
   "file_extension": ".py",
   "mimetype": "text/x-python",
   "name": "python",
   "nbconvert_exporter": "python",
   "pygments_lexer": "ipython3",
   "version": "3.11.6"
  }
 },
 "nbformat": 4,
 "nbformat_minor": 2
}
