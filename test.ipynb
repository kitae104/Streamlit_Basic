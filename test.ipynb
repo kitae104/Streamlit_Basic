{
 "cells": [
  {
   "cell_type": "code",
   "execution_count": 7,
   "metadata": {},
   "outputs": [
    {
     "name": "stdout",
     "output_type": "stream",
     "text": [
      "e:\\Github\\Streamlit_WS\\Streamlit_Basic\n",
      "e:\\Github\\Streamlit_WS\n",
      "e:\\Github\\Streamlit_WS\n"
     ]
    }
   ],
   "source": [
    "import sys\n",
    "from pathlib import Path\n",
    "\n",
    "try:\n",
    "    FILE = Path(__file__).resolve()  # 스크립트로 실행될 경우\n",
    "except NameError:\n",
    "    FILE = Path.cwd()  # Jupyter Notebook 또는 대화형 환경\n",
    "\n",
    "print(FILE)\n",
    "\n",
    "ROOT = FILE.parent  # 현재 파일의 부모 경로\n",
    "print(ROOT)\n",
    "\n",
    "if ROOT not in sys.path:\n",
    "    sys.path.append(str(ROOT)) # 부모 경로를 sys.path에 추가\n",
    "\n",
    "print(ROOT)"
   ]
  },
  {
   "cell_type": "code",
   "execution_count": null,
   "metadata": {},
   "outputs": [],
   "source": []
  }
 ],
 "metadata": {
  "kernelspec": {
   "display_name": "Python 3",
   "language": "python",
   "name": "python3"
  },
  "language_info": {
   "codemirror_mode": {
    "name": "ipython",
    "version": 3
   },
   "file_extension": ".py",
   "mimetype": "text/x-python",
   "name": "python",
   "nbconvert_exporter": "python",
   "pygments_lexer": "ipython3",
   "version": "3.12.5"
  }
 },
 "nbformat": 4,
 "nbformat_minor": 2
}
