{
 "cells": [
  {
   "cell_type": "code",
   "execution_count": 1,
   "metadata": {},
   "outputs": [
    {
     "name": "stdout",
     "output_type": "stream",
     "text": [
      "1.0.1\n"
     ]
    }
   ],
   "source": [
    "import geopandas as gpd\n",
    "print(gpd.__version__) "
   ]
  },
  {
   "cell_type": "code",
   "execution_count": 30,
   "metadata": {},
   "outputs": [
    {
     "data": {
      "text/html": [
       "<div>\n",
       "<style scoped>\n",
       "    .dataframe tbody tr th:only-of-type {\n",
       "        vertical-align: middle;\n",
       "    }\n",
       "\n",
       "    .dataframe tbody tr th {\n",
       "        vertical-align: top;\n",
       "    }\n",
       "\n",
       "    .dataframe thead th {\n",
       "        text-align: right;\n",
       "    }\n",
       "</style>\n",
       "<table border=\"1\" class=\"dataframe\">\n",
       "  <thead>\n",
       "    <tr style=\"text-align: right;\">\n",
       "      <th></th>\n",
       "      <th>featurecla</th>\n",
       "      <th>scalerank</th>\n",
       "      <th>LABELRANK</th>\n",
       "      <th>SOVEREIGNT</th>\n",
       "      <th>SOV_A3</th>\n",
       "      <th>ADM0_DIF</th>\n",
       "      <th>LEVEL</th>\n",
       "      <th>TYPE</th>\n",
       "      <th>TLC</th>\n",
       "      <th>ADMIN</th>\n",
       "      <th>...</th>\n",
       "      <th>FCLASS_TR</th>\n",
       "      <th>FCLASS_ID</th>\n",
       "      <th>FCLASS_PL</th>\n",
       "      <th>FCLASS_GR</th>\n",
       "      <th>FCLASS_IT</th>\n",
       "      <th>FCLASS_NL</th>\n",
       "      <th>FCLASS_SE</th>\n",
       "      <th>FCLASS_BD</th>\n",
       "      <th>FCLASS_UA</th>\n",
       "      <th>geometry</th>\n",
       "    </tr>\n",
       "  </thead>\n",
       "  <tbody>\n",
       "    <tr>\n",
       "      <th>0</th>\n",
       "      <td>Admin-0 country</td>\n",
       "      <td>1</td>\n",
       "      <td>6</td>\n",
       "      <td>Fiji</td>\n",
       "      <td>FJI</td>\n",
       "      <td>0</td>\n",
       "      <td>2</td>\n",
       "      <td>Sovereign country</td>\n",
       "      <td>1</td>\n",
       "      <td>Fiji</td>\n",
       "      <td>...</td>\n",
       "      <td>None</td>\n",
       "      <td>None</td>\n",
       "      <td>None</td>\n",
       "      <td>None</td>\n",
       "      <td>None</td>\n",
       "      <td>None</td>\n",
       "      <td>None</td>\n",
       "      <td>None</td>\n",
       "      <td>None</td>\n",
       "      <td>MULTIPOLYGON (((180 -16.06713, 180 -16.55522, ...</td>\n",
       "    </tr>\n",
       "    <tr>\n",
       "      <th>1</th>\n",
       "      <td>Admin-0 country</td>\n",
       "      <td>1</td>\n",
       "      <td>3</td>\n",
       "      <td>United Republic of Tanzania</td>\n",
       "      <td>TZA</td>\n",
       "      <td>0</td>\n",
       "      <td>2</td>\n",
       "      <td>Sovereign country</td>\n",
       "      <td>1</td>\n",
       "      <td>United Republic of Tanzania</td>\n",
       "      <td>...</td>\n",
       "      <td>None</td>\n",
       "      <td>None</td>\n",
       "      <td>None</td>\n",
       "      <td>None</td>\n",
       "      <td>None</td>\n",
       "      <td>None</td>\n",
       "      <td>None</td>\n",
       "      <td>None</td>\n",
       "      <td>None</td>\n",
       "      <td>POLYGON ((33.90371 -0.95, 34.07262 -1.05982, 3...</td>\n",
       "    </tr>\n",
       "    <tr>\n",
       "      <th>2</th>\n",
       "      <td>Admin-0 country</td>\n",
       "      <td>1</td>\n",
       "      <td>7</td>\n",
       "      <td>Western Sahara</td>\n",
       "      <td>SAH</td>\n",
       "      <td>0</td>\n",
       "      <td>2</td>\n",
       "      <td>Indeterminate</td>\n",
       "      <td>1</td>\n",
       "      <td>Western Sahara</td>\n",
       "      <td>...</td>\n",
       "      <td>Unrecognized</td>\n",
       "      <td>Unrecognized</td>\n",
       "      <td>Unrecognized</td>\n",
       "      <td>None</td>\n",
       "      <td>None</td>\n",
       "      <td>Unrecognized</td>\n",
       "      <td>None</td>\n",
       "      <td>None</td>\n",
       "      <td>None</td>\n",
       "      <td>POLYGON ((-8.66559 27.65643, -8.66512 27.58948...</td>\n",
       "    </tr>\n",
       "    <tr>\n",
       "      <th>3</th>\n",
       "      <td>Admin-0 country</td>\n",
       "      <td>1</td>\n",
       "      <td>2</td>\n",
       "      <td>Canada</td>\n",
       "      <td>CAN</td>\n",
       "      <td>0</td>\n",
       "      <td>2</td>\n",
       "      <td>Sovereign country</td>\n",
       "      <td>1</td>\n",
       "      <td>Canada</td>\n",
       "      <td>...</td>\n",
       "      <td>None</td>\n",
       "      <td>None</td>\n",
       "      <td>None</td>\n",
       "      <td>None</td>\n",
       "      <td>None</td>\n",
       "      <td>None</td>\n",
       "      <td>None</td>\n",
       "      <td>None</td>\n",
       "      <td>None</td>\n",
       "      <td>MULTIPOLYGON (((-122.84 49, -122.97421 49.0025...</td>\n",
       "    </tr>\n",
       "    <tr>\n",
       "      <th>4</th>\n",
       "      <td>Admin-0 country</td>\n",
       "      <td>1</td>\n",
       "      <td>2</td>\n",
       "      <td>United States of America</td>\n",
       "      <td>US1</td>\n",
       "      <td>1</td>\n",
       "      <td>2</td>\n",
       "      <td>Country</td>\n",
       "      <td>1</td>\n",
       "      <td>United States of America</td>\n",
       "      <td>...</td>\n",
       "      <td>None</td>\n",
       "      <td>None</td>\n",
       "      <td>None</td>\n",
       "      <td>None</td>\n",
       "      <td>None</td>\n",
       "      <td>None</td>\n",
       "      <td>None</td>\n",
       "      <td>None</td>\n",
       "      <td>None</td>\n",
       "      <td>MULTIPOLYGON (((-122.84 49, -120 49, -117.0312...</td>\n",
       "    </tr>\n",
       "  </tbody>\n",
       "</table>\n",
       "<p>5 rows × 169 columns</p>\n",
       "</div>"
      ],
      "text/plain": [
       "        featurecla  scalerank  LABELRANK                   SOVEREIGNT SOV_A3  \\\n",
       "0  Admin-0 country          1          6                         Fiji    FJI   \n",
       "1  Admin-0 country          1          3  United Republic of Tanzania    TZA   \n",
       "2  Admin-0 country          1          7               Western Sahara    SAH   \n",
       "3  Admin-0 country          1          2                       Canada    CAN   \n",
       "4  Admin-0 country          1          2     United States of America    US1   \n",
       "\n",
       "   ADM0_DIF  LEVEL               TYPE TLC                        ADMIN  ...  \\\n",
       "0         0      2  Sovereign country   1                         Fiji  ...   \n",
       "1         0      2  Sovereign country   1  United Republic of Tanzania  ...   \n",
       "2         0      2      Indeterminate   1               Western Sahara  ...   \n",
       "3         0      2  Sovereign country   1                       Canada  ...   \n",
       "4         1      2            Country   1     United States of America  ...   \n",
       "\n",
       "      FCLASS_TR     FCLASS_ID     FCLASS_PL FCLASS_GR  FCLASS_IT  \\\n",
       "0          None          None          None      None       None   \n",
       "1          None          None          None      None       None   \n",
       "2  Unrecognized  Unrecognized  Unrecognized      None       None   \n",
       "3          None          None          None      None       None   \n",
       "4          None          None          None      None       None   \n",
       "\n",
       "      FCLASS_NL FCLASS_SE  FCLASS_BD FCLASS_UA  \\\n",
       "0          None      None       None      None   \n",
       "1          None      None       None      None   \n",
       "2  Unrecognized      None       None      None   \n",
       "3          None      None       None      None   \n",
       "4          None      None       None      None   \n",
       "\n",
       "                                            geometry  \n",
       "0  MULTIPOLYGON (((180 -16.06713, 180 -16.55522, ...  \n",
       "1  POLYGON ((33.90371 -0.95, 34.07262 -1.05982, 3...  \n",
       "2  POLYGON ((-8.66559 27.65643, -8.66512 27.58948...  \n",
       "3  MULTIPOLYGON (((-122.84 49, -122.97421 49.0025...  \n",
       "4  MULTIPOLYGON (((-122.84 49, -120 49, -117.0312...  \n",
       "\n",
       "[5 rows x 169 columns]"
      ]
     },
     "execution_count": 30,
     "metadata": {},
     "output_type": "execute_result"
    }
   ],
   "source": [
    "url = \"https://naciscdn.org/naturalearth/110m/cultural/ne_110m_admin_0_countries.zip\"\n",
    "world_gdf = gpd.read_file(url)\n",
    "world_gdf.head() # 데이터 확인 상위 5개"
   ]
  },
  {
   "cell_type": "markdown",
   "metadata": {},
   "source": [
    "#### 로컬에서 파일 불러오기"
   ]
  },
  {
   "cell_type": "code",
   "execution_count": 10,
   "metadata": {},
   "outputs": [
    {
     "data": {
      "text/html": [
       "<div>\n",
       "<style scoped>\n",
       "    .dataframe tbody tr th:only-of-type {\n",
       "        vertical-align: middle;\n",
       "    }\n",
       "\n",
       "    .dataframe tbody tr th {\n",
       "        vertical-align: top;\n",
       "    }\n",
       "\n",
       "    .dataframe thead th {\n",
       "        text-align: right;\n",
       "    }\n",
       "</style>\n",
       "<table border=\"1\" class=\"dataframe\">\n",
       "  <thead>\n",
       "    <tr style=\"text-align: right;\">\n",
       "      <th></th>\n",
       "      <th>adm1_code</th>\n",
       "      <th>iso_3166_2</th>\n",
       "      <th>name</th>\n",
       "      <th>geometry</th>\n",
       "    </tr>\n",
       "  </thead>\n",
       "  <tbody>\n",
       "    <tr>\n",
       "      <th>0</th>\n",
       "      <td>USA-3514</td>\n",
       "      <td>US-MN</td>\n",
       "      <td>Minnesota</td>\n",
       "      <td>POLYGON ((-89.95766 47.28691, -90.13175 47.292...</td>\n",
       "    </tr>\n",
       "    <tr>\n",
       "      <th>1</th>\n",
       "      <td>USA-3515</td>\n",
       "      <td>US-MT</td>\n",
       "      <td>Montana</td>\n",
       "      <td>POLYGON ((-116.04823 49.00037, -113.0595 49.00...</td>\n",
       "    </tr>\n",
       "    <tr>\n",
       "      <th>2</th>\n",
       "      <td>USA-3516</td>\n",
       "      <td>US-ND</td>\n",
       "      <td>North Dakota</td>\n",
       "      <td>POLYGON ((-97.22894 49.00089, -97.21414 48.902...</td>\n",
       "    </tr>\n",
       "    <tr>\n",
       "      <th>3</th>\n",
       "      <td>USA-3517</td>\n",
       "      <td>US-HI</td>\n",
       "      <td>Hawaii</td>\n",
       "      <td>MULTIPOLYGON (((-155.93665 19.05939, -155.9080...</td>\n",
       "    </tr>\n",
       "    <tr>\n",
       "      <th>4</th>\n",
       "      <td>USA-3518</td>\n",
       "      <td>US-ID</td>\n",
       "      <td>Idaho</td>\n",
       "      <td>POLYGON ((-116.04823 49.00037, -115.9678 47.95...</td>\n",
       "    </tr>\n",
       "    <tr>\n",
       "      <th>5</th>\n",
       "      <td>USA-3519</td>\n",
       "      <td>US-WA</td>\n",
       "      <td>Washington</td>\n",
       "      <td>POLYGON ((-117.03143 48.99931, -117.02665 47.7...</td>\n",
       "    </tr>\n",
       "  </tbody>\n",
       "</table>\n",
       "</div>"
      ],
      "text/plain": [
       "  adm1_code iso_3166_2          name  \\\n",
       "0  USA-3514      US-MN     Minnesota   \n",
       "1  USA-3515      US-MT       Montana   \n",
       "2  USA-3516      US-ND  North Dakota   \n",
       "3  USA-3517      US-HI        Hawaii   \n",
       "4  USA-3518      US-ID         Idaho   \n",
       "5  USA-3519      US-WA    Washington   \n",
       "\n",
       "                                            geometry  \n",
       "0  POLYGON ((-89.95766 47.28691, -90.13175 47.292...  \n",
       "1  POLYGON ((-116.04823 49.00037, -113.0595 49.00...  \n",
       "2  POLYGON ((-97.22894 49.00089, -97.21414 48.902...  \n",
       "3  MULTIPOLYGON (((-155.93665 19.05939, -155.9080...  \n",
       "4  POLYGON ((-116.04823 49.00037, -115.9678 47.95...  \n",
       "5  POLYGON ((-117.03143 48.99931, -117.02665 47.7...  "
      ]
     },
     "execution_count": 10,
     "metadata": {},
     "output_type": "execute_result"
    }
   ],
   "source": [
    "states = gpd.read_file('E:/Github/Streamlit_WS/Streamlit_Basic/Basic/02_geo_map/data/map/ne_110m_admin_1_states_provinces.shp')\n",
    "states[['adm1_code', 'iso_3166_2', 'name', 'geometry']].head(6)"
   ]
  },
  {
   "cell_type": "code",
   "execution_count": 11,
   "metadata": {},
   "outputs": [
    {
     "name": "stdout",
     "output_type": "stream",
     "text": [
      "<class 'geopandas.geodataframe.GeoDataFrame'>\n"
     ]
    }
   ],
   "source": [
    "print(type(states)) # 타입 확인 "
   ]
  },
  {
   "cell_type": "code",
   "execution_count": 12,
   "metadata": {},
   "outputs": [
    {
     "data": {
      "text/plain": [
       "(51, 122)"
      ]
     },
     "execution_count": 12,
     "metadata": {},
     "output_type": "execute_result"
    }
   ],
   "source": [
    "states.shape # 데이터의 행과 열의 개수를 확인"
   ]
  },
  {
   "cell_type": "code",
   "execution_count": 13,
   "metadata": {},
   "outputs": [
    {
     "data": {
      "text/plain": [
       "Index(['featurecla', 'scalerank', 'adm1_code', 'diss_me', 'iso_3166_2',\n",
       "       'wikipedia', 'iso_a2', 'adm0_sr', 'name', 'name_alt',\n",
       "       ...\n",
       "       'FCLASS_ID', 'FCLASS_PL', 'FCLASS_GR', 'FCLASS_IT', 'FCLASS_NL',\n",
       "       'FCLASS_SE', 'FCLASS_BD', 'FCLASS_UA', 'FCLASS_TLC', 'geometry'],\n",
       "      dtype='object', length=122)"
      ]
     },
     "execution_count": 13,
     "metadata": {},
     "output_type": "execute_result"
    }
   ],
   "source": [
    "states.columns  # 컬럼 확인"
   ]
  },
  {
   "cell_type": "code",
   "execution_count": 14,
   "metadata": {},
   "outputs": [
    {
     "data": {
      "text/plain": [
       "0         Polygon\n",
       "1         Polygon\n",
       "2         Polygon\n",
       "3    MultiPolygon\n",
       "4         Polygon\n",
       "dtype: object"
      ]
     },
     "execution_count": 14,
     "metadata": {},
     "output_type": "execute_result"
    }
   ],
   "source": [
    "states.geom_type.head() # 지오메트리 타입 확인"
   ]
  },
  {
   "cell_type": "code",
   "execution_count": 15,
   "metadata": {},
   "outputs": [
    {
     "data": {
      "text/plain": [
       "<Geographic 2D CRS: EPSG:4326>\n",
       "Name: WGS 84\n",
       "Axis Info [ellipsoidal]:\n",
       "- Lat[north]: Geodetic latitude (degree)\n",
       "- Lon[east]: Geodetic longitude (degree)\n",
       "Area of Use:\n",
       "- name: World.\n",
       "- bounds: (-180.0, -90.0, 180.0, 90.0)\n",
       "Datum: World Geodetic System 1984 ensemble\n",
       "- Ellipsoid: WGS 84\n",
       "- Prime Meridian: Greenwich"
      ]
     },
     "execution_count": 15,
     "metadata": {},
     "output_type": "execute_result"
    }
   ],
   "source": [
    "states.crs # 좌표계 확인"
   ]
  },
  {
   "cell_type": "code",
   "execution_count": 17,
   "metadata": {},
   "outputs": [
    {
     "data": {
      "image/png": "[encoded data removed]",
      "text/plain": [
       "<Figure size 1000x1000 with 1 Axes>"
      ]
     },
     "metadata": {},
     "output_type": "display_data"
    }
   ],
   "source": [
    "import matplotlib.pyplot as plt\n",
    "\n",
    "ax = states.plot(figsize=(10, 10), edgecolor='black', facecolor='none')\n",
    "ax.set_title('USA States', fontsize=15)\n",
    "plt.savefig('./output/map01.png', dpi=300)\n",
    "plt.show()"
   ]
  },
  {
   "cell_type": "markdown",
   "metadata": {},
   "source": [
    "#### 파일 내보내기 "
   ]
  },
  {
   "cell_type": "code",
   "execution_count": 18,
   "metadata": {},
   "outputs": [],
   "source": [
    "states.to_file('data/my_file.json', driver='GeoJSON')   # GeoJSON 파일로 저장"
   ]
  },
  {
   "cell_type": "markdown",
   "metadata": {},
   "source": [
    "#### 파일 불러오기"
   ]
  },
  {
   "cell_type": "code",
   "execution_count": 19,
   "metadata": {},
   "outputs": [
    {
     "data": {
      "text/html": [
       "<div>\n",
       "<style scoped>\n",
       "    .dataframe tbody tr th:only-of-type {\n",
       "        vertical-align: middle;\n",
       "    }\n",
       "\n",
       "    .dataframe tbody tr th {\n",
       "        vertical-align: top;\n",
       "    }\n",
       "\n",
       "    .dataframe thead th {\n",
       "        text-align: right;\n",
       "    }\n",
       "</style>\n",
       "<table border=\"1\" class=\"dataframe\">\n",
       "  <thead>\n",
       "    <tr style=\"text-align: right;\">\n",
       "      <th></th>\n",
       "      <th>adm1_code</th>\n",
       "      <th>iso_3166_2</th>\n",
       "      <th>name</th>\n",
       "      <th>geometry</th>\n",
       "    </tr>\n",
       "  </thead>\n",
       "  <tbody>\n",
       "    <tr>\n",
       "      <th>0</th>\n",
       "      <td>USA-3514</td>\n",
       "      <td>US-MN</td>\n",
       "      <td>Minnesota</td>\n",
       "      <td>POLYGON ((-89.95766 47.28691, -90.13175 47.292...</td>\n",
       "    </tr>\n",
       "    <tr>\n",
       "      <th>1</th>\n",
       "      <td>USA-3515</td>\n",
       "      <td>US-MT</td>\n",
       "      <td>Montana</td>\n",
       "      <td>POLYGON ((-116.04823 49.00037, -113.0595 49.00...</td>\n",
       "    </tr>\n",
       "    <tr>\n",
       "      <th>2</th>\n",
       "      <td>USA-3516</td>\n",
       "      <td>US-ND</td>\n",
       "      <td>North Dakota</td>\n",
       "      <td>POLYGON ((-97.22894 49.00089, -97.21414 48.902...</td>\n",
       "    </tr>\n",
       "    <tr>\n",
       "      <th>3</th>\n",
       "      <td>USA-3517</td>\n",
       "      <td>US-HI</td>\n",
       "      <td>Hawaii</td>\n",
       "      <td>MULTIPOLYGON (((-155.93665 19.05939, -155.9080...</td>\n",
       "    </tr>\n",
       "    <tr>\n",
       "      <th>4</th>\n",
       "      <td>USA-3518</td>\n",
       "      <td>US-ID</td>\n",
       "      <td>Idaho</td>\n",
       "      <td>POLYGON ((-116.04823 49.00037, -115.9678 47.95...</td>\n",
       "    </tr>\n",
       "    <tr>\n",
       "      <th>5</th>\n",
       "      <td>USA-3519</td>\n",
       "      <td>US-WA</td>\n",
       "      <td>Washington</td>\n",
       "      <td>POLYGON ((-117.03143 48.99931, -117.02665 47.7...</td>\n",
       "    </tr>\n",
       "  </tbody>\n",
       "</table>\n",
       "</div>"
      ],
      "text/plain": [
       "  adm1_code iso_3166_2          name  \\\n",
       "0  USA-3514      US-MN     Minnesota   \n",
       "1  USA-3515      US-MT       Montana   \n",
       "2  USA-3516      US-ND  North Dakota   \n",
       "3  USA-3517      US-HI        Hawaii   \n",
       "4  USA-3518      US-ID         Idaho   \n",
       "5  USA-3519      US-WA    Washington   \n",
       "\n",
       "                                            geometry  \n",
       "0  POLYGON ((-89.95766 47.28691, -90.13175 47.292...  \n",
       "1  POLYGON ((-116.04823 49.00037, -113.0595 49.00...  \n",
       "2  POLYGON ((-97.22894 49.00089, -97.21414 48.902...  \n",
       "3  MULTIPOLYGON (((-155.93665 19.05939, -155.9080...  \n",
       "4  POLYGON ((-116.04823 49.00037, -115.9678 47.95...  \n",
       "5  POLYGON ((-117.03143 48.99931, -117.02665 47.7...  "
      ]
     },
     "execution_count": 19,
     "metadata": {},
     "output_type": "execute_result"
    }
   ],
   "source": [
    "df = gpd.read_file('data/my_file.json')\n",
    "df[['adm1_code', 'iso_3166_2', 'name', 'geometry']].head(6)"
   ]
  },
  {
   "cell_type": "markdown",
   "metadata": {},
   "source": [
    "### 지리 데이터 매핑"
   ]
  },
  {
   "cell_type": "code",
   "execution_count": 33,
   "metadata": {},
   "outputs": [
    {
     "data": {
      "text/html": [
       "<div>\n",
       "<style scoped>\n",
       "    .dataframe tbody tr th:only-of-type {\n",
       "        vertical-align: middle;\n",
       "    }\n",
       "\n",
       "    .dataframe tbody tr th {\n",
       "        vertical-align: top;\n",
       "    }\n",
       "\n",
       "    .dataframe thead th {\n",
       "        text-align: right;\n",
       "    }\n",
       "</style>\n",
       "<table border=\"1\" class=\"dataframe\">\n",
       "  <thead>\n",
       "    <tr style=\"text-align: right;\">\n",
       "      <th></th>\n",
       "      <th>name</th>\n",
       "      <th>data</th>\n",
       "    </tr>\n",
       "  </thead>\n",
       "  <tbody>\n",
       "    <tr>\n",
       "      <th>0</th>\n",
       "      <td>Minnesota</td>\n",
       "      <td>793</td>\n",
       "    </tr>\n",
       "    <tr>\n",
       "      <th>1</th>\n",
       "      <td>Montana</td>\n",
       "      <td>405</td>\n",
       "    </tr>\n",
       "    <tr>\n",
       "      <th>2</th>\n",
       "      <td>North Dakota</td>\n",
       "      <td>680</td>\n",
       "    </tr>\n",
       "    <tr>\n",
       "      <th>3</th>\n",
       "      <td>Hawaii</td>\n",
       "      <td>426</td>\n",
       "    </tr>\n",
       "    <tr>\n",
       "      <th>4</th>\n",
       "      <td>Idaho</td>\n",
       "      <td>338</td>\n",
       "    </tr>\n",
       "  </tbody>\n",
       "</table>\n",
       "</div>"
      ],
      "text/plain": [
       "           name  data\n",
       "0     Minnesota   793\n",
       "1       Montana   405\n",
       "2  North Dakota   680\n",
       "3        Hawaii   426\n",
       "4         Idaho   338"
      ]
     },
     "execution_count": 33,
     "metadata": {},
     "output_type": "execute_result"
    }
   ],
   "source": [
    "import pandas as pd\n",
    "import numpy as np\n",
    "\n",
    "# 가상의 데이터 생성\n",
    "data = pd.DataFrame({\n",
    "    'name': df['name'],\n",
    "    'data': np.random.randint(100, 1000, len(df))\n",
    "})\n",
    "\n",
    "data.head()"
   ]
  },
  {
   "cell_type": "code",
   "execution_count": 34,
   "metadata": {},
   "outputs": [
    {
     "data": {
      "text/html": [
       "<div>\n",
       "<style scoped>\n",
       "    .dataframe tbody tr th:only-of-type {\n",
       "        vertical-align: middle;\n",
       "    }\n",
       "\n",
       "    .dataframe tbody tr th {\n",
       "        vertical-align: top;\n",
       "    }\n",
       "\n",
       "    .dataframe thead th {\n",
       "        text-align: right;\n",
       "    }\n",
       "</style>\n",
       "<table border=\"1\" class=\"dataframe\">\n",
       "  <thead>\n",
       "    <tr style=\"text-align: right;\">\n",
       "      <th></th>\n",
       "      <th>adm1_code</th>\n",
       "      <th>iso_3166_2</th>\n",
       "      <th>name</th>\n",
       "      <th>geometry</th>\n",
       "      <th>data</th>\n",
       "    </tr>\n",
       "  </thead>\n",
       "  <tbody>\n",
       "    <tr>\n",
       "      <th>0</th>\n",
       "      <td>USA-3514</td>\n",
       "      <td>US-MN</td>\n",
       "      <td>Minnesota</td>\n",
       "      <td>POLYGON ((-89.95766 47.28691, -90.13175 47.292...</td>\n",
       "      <td>793</td>\n",
       "    </tr>\n",
       "    <tr>\n",
       "      <th>1</th>\n",
       "      <td>USA-3515</td>\n",
       "      <td>US-MT</td>\n",
       "      <td>Montana</td>\n",
       "      <td>POLYGON ((-116.04823 49.00037, -113.0595 49.00...</td>\n",
       "      <td>405</td>\n",
       "    </tr>\n",
       "    <tr>\n",
       "      <th>2</th>\n",
       "      <td>USA-3516</td>\n",
       "      <td>US-ND</td>\n",
       "      <td>North Dakota</td>\n",
       "      <td>POLYGON ((-97.22894 49.00089, -97.21414 48.902...</td>\n",
       "      <td>680</td>\n",
       "    </tr>\n",
       "    <tr>\n",
       "      <th>3</th>\n",
       "      <td>USA-3517</td>\n",
       "      <td>US-HI</td>\n",
       "      <td>Hawaii</td>\n",
       "      <td>MULTIPOLYGON (((-155.93665 19.05939, -155.9080...</td>\n",
       "      <td>426</td>\n",
       "    </tr>\n",
       "    <tr>\n",
       "      <th>4</th>\n",
       "      <td>USA-3518</td>\n",
       "      <td>US-ID</td>\n",
       "      <td>Idaho</td>\n",
       "      <td>POLYGON ((-116.04823 49.00037, -115.9678 47.95...</td>\n",
       "      <td>338</td>\n",
       "    </tr>\n",
       "  </tbody>\n",
       "</table>\n",
       "</div>"
      ],
      "text/plain": [
       "  adm1_code iso_3166_2          name  \\\n",
       "0  USA-3514      US-MN     Minnesota   \n",
       "1  USA-3515      US-MT       Montana   \n",
       "2  USA-3516      US-ND  North Dakota   \n",
       "3  USA-3517      US-HI        Hawaii   \n",
       "4  USA-3518      US-ID         Idaho   \n",
       "\n",
       "                                            geometry  data  \n",
       "0  POLYGON ((-89.95766 47.28691, -90.13175 47.292...   793  \n",
       "1  POLYGON ((-116.04823 49.00037, -113.0595 49.00...   405  \n",
       "2  POLYGON ((-97.22894 49.00089, -97.21414 48.902...   680  \n",
       "3  MULTIPOLYGON (((-155.93665 19.05939, -155.9080...   426  \n",
       "4  POLYGON ((-116.04823 49.00037, -115.9678 47.95...   338  "
      ]
     },
     "execution_count": 34,
     "metadata": {},
     "output_type": "execute_result"
    }
   ],
   "source": [
    "# 데이터 매핑\n",
    "world_df = df.merge(data, on = 'name')\n",
    "world_df[['adm1_code', 'iso_3166_2', 'name', 'geometry', 'data']].head()"
   ]
  },
  {
   "cell_type": "code",
   "execution_count": 35,
   "metadata": {},
   "outputs": [
    {
     "data": {
      "image/png": "[encoded data removed]",
      "text/plain": [
       "<Figure size 1000x600 with 2 Axes>"
      ]
     },
     "metadata": {},
     "output_type": "display_data"
    }
   ],
   "source": [
    "import matplotlib.pyplot as plt \n",
    "\n",
    "fig, ax = plt.subplots(figsize=(10, 6)) # 그래프 크기 설정\n",
    "world_df.plot(ax=ax, column=\"data\", cmap=\"Accent\", legend=False, alpha=0.9) # 데이터 매핑\n",
    "ax.set_title('data') \n",
    "ax.set_axis_off()\n",
    "\n",
    "cb = fig.colorbar(ax.collections[0], ax=ax, location = 'left', shrink = 0.6) # 컬러바 설정 \n",
    "plt.savefig('output/map02.png', dpi=200) # 그래프 저장\n",
    "plt.show()"
   ]
  },
  {
   "cell_type": "markdown",
   "metadata": {},
   "source": [
    "### 한반도 시각화 하기"
   ]
  },
  {
   "cell_type": "code",
   "execution_count": 38,
   "metadata": {},
   "outputs": [
    {
     "name": "stderr",
     "output_type": "stream",
     "text": [
      "<>:1: SyntaxWarning: invalid escape sequence '\\G'\n",
      "<>:1: SyntaxWarning: invalid escape sequence '\\G'\n",
      "C:\\Users\\Public\\Documents\\ESTsoft\\CreatorTemp\\ipykernel_19500\\1997908999.py:1: SyntaxWarning: invalid escape sequence '\\G'\n",
      "  world = gpd.read_file('E:\\Github\\Streamlit_WS\\Streamlit_Basic\\Basic/02_geo_map\\data\\map/ne_110m_admin_0_countries.shx')\n"
     ]
    },
    {
     "data": {
      "text/html": [
       "<div>\n",
       "<style scoped>\n",
       "    .dataframe tbody tr th:only-of-type {\n",
       "        vertical-align: middle;\n",
       "    }\n",
       "\n",
       "    .dataframe tbody tr th {\n",
       "        vertical-align: top;\n",
       "    }\n",
       "\n",
       "    .dataframe thead th {\n",
       "        text-align: right;\n",
       "    }\n",
       "</style>\n",
       "<table border=\"1\" class=\"dataframe\">\n",
       "  <thead>\n",
       "    <tr style=\"text-align: right;\">\n",
       "      <th></th>\n",
       "      <th>featurecla</th>\n",
       "      <th>scalerank</th>\n",
       "      <th>LABELRANK</th>\n",
       "      <th>SOVEREIGNT</th>\n",
       "      <th>SOV_A3</th>\n",
       "      <th>ADM0_DIF</th>\n",
       "      <th>LEVEL</th>\n",
       "      <th>TYPE</th>\n",
       "      <th>TLC</th>\n",
       "      <th>ADMIN</th>\n",
       "      <th>...</th>\n",
       "      <th>FCLASS_TR</th>\n",
       "      <th>FCLASS_ID</th>\n",
       "      <th>FCLASS_PL</th>\n",
       "      <th>FCLASS_GR</th>\n",
       "      <th>FCLASS_IT</th>\n",
       "      <th>FCLASS_NL</th>\n",
       "      <th>FCLASS_SE</th>\n",
       "      <th>FCLASS_BD</th>\n",
       "      <th>FCLASS_UA</th>\n",
       "      <th>geometry</th>\n",
       "    </tr>\n",
       "  </thead>\n",
       "  <tbody>\n",
       "    <tr>\n",
       "      <th>0</th>\n",
       "      <td>Admin-0 country</td>\n",
       "      <td>1</td>\n",
       "      <td>6</td>\n",
       "      <td>Fiji</td>\n",
       "      <td>FJI</td>\n",
       "      <td>0</td>\n",
       "      <td>2</td>\n",
       "      <td>Sovereign country</td>\n",
       "      <td>1</td>\n",
       "      <td>Fiji</td>\n",
       "      <td>...</td>\n",
       "      <td>None</td>\n",
       "      <td>None</td>\n",
       "      <td>None</td>\n",
       "      <td>None</td>\n",
       "      <td>None</td>\n",
       "      <td>None</td>\n",
       "      <td>None</td>\n",
       "      <td>None</td>\n",
       "      <td>None</td>\n",
       "      <td>MULTIPOLYGON (((180 -16.06713, 180 -16.55522, ...</td>\n",
       "    </tr>\n",
       "    <tr>\n",
       "      <th>1</th>\n",
       "      <td>Admin-0 country</td>\n",
       "      <td>1</td>\n",
       "      <td>3</td>\n",
       "      <td>United Republic of Tanzania</td>\n",
       "      <td>TZA</td>\n",
       "      <td>0</td>\n",
       "      <td>2</td>\n",
       "      <td>Sovereign country</td>\n",
       "      <td>1</td>\n",
       "      <td>United Republic of Tanzania</td>\n",
       "      <td>...</td>\n",
       "      <td>None</td>\n",
       "      <td>None</td>\n",
       "      <td>None</td>\n",
       "      <td>None</td>\n",
       "      <td>None</td>\n",
       "      <td>None</td>\n",
       "      <td>None</td>\n",
       "      <td>None</td>\n",
       "      <td>None</td>\n",
       "      <td>POLYGON ((33.90371 -0.95, 34.07262 -1.05982, 3...</td>\n",
       "    </tr>\n",
       "    <tr>\n",
       "      <th>2</th>\n",
       "      <td>Admin-0 country</td>\n",
       "      <td>1</td>\n",
       "      <td>7</td>\n",
       "      <td>Western Sahara</td>\n",
       "      <td>SAH</td>\n",
       "      <td>0</td>\n",
       "      <td>2</td>\n",
       "      <td>Indeterminate</td>\n",
       "      <td>1</td>\n",
       "      <td>Western Sahara</td>\n",
       "      <td>...</td>\n",
       "      <td>Unrecognized</td>\n",
       "      <td>Unrecognized</td>\n",
       "      <td>Unrecognized</td>\n",
       "      <td>None</td>\n",
       "      <td>None</td>\n",
       "      <td>Unrecognized</td>\n",
       "      <td>None</td>\n",
       "      <td>None</td>\n",
       "      <td>None</td>\n",
       "      <td>POLYGON ((-8.66559 27.65643, -8.66512 27.58948...</td>\n",
       "    </tr>\n",
       "    <tr>\n",
       "      <th>3</th>\n",
       "      <td>Admin-0 country</td>\n",
       "      <td>1</td>\n",
       "      <td>2</td>\n",
       "      <td>Canada</td>\n",
       "      <td>CAN</td>\n",
       "      <td>0</td>\n",
       "      <td>2</td>\n",
       "      <td>Sovereign country</td>\n",
       "      <td>1</td>\n",
       "      <td>Canada</td>\n",
       "      <td>...</td>\n",
       "      <td>None</td>\n",
       "      <td>None</td>\n",
       "      <td>None</td>\n",
       "      <td>None</td>\n",
       "      <td>None</td>\n",
       "      <td>None</td>\n",
       "      <td>None</td>\n",
       "      <td>None</td>\n",
       "      <td>None</td>\n",
       "      <td>MULTIPOLYGON (((-122.84 49, -122.97421 49.0025...</td>\n",
       "    </tr>\n",
       "    <tr>\n",
       "      <th>4</th>\n",
       "      <td>Admin-0 country</td>\n",
       "      <td>1</td>\n",
       "      <td>2</td>\n",
       "      <td>United States of America</td>\n",
       "      <td>US1</td>\n",
       "      <td>1</td>\n",
       "      <td>2</td>\n",
       "      <td>Country</td>\n",
       "      <td>1</td>\n",
       "      <td>United States of America</td>\n",
       "      <td>...</td>\n",
       "      <td>None</td>\n",
       "      <td>None</td>\n",
       "      <td>None</td>\n",
       "      <td>None</td>\n",
       "      <td>None</td>\n",
       "      <td>None</td>\n",
       "      <td>None</td>\n",
       "      <td>None</td>\n",
       "      <td>None</td>\n",
       "      <td>MULTIPOLYGON (((-122.84 49, -120 49, -117.0312...</td>\n",
       "    </tr>\n",
       "  </tbody>\n",
       "</table>\n",
       "<p>5 rows × 169 columns</p>\n",
       "</div>"
      ],
      "text/plain": [
       "        featurecla  scalerank  LABELRANK                   SOVEREIGNT SOV_A3  \\\n",
       "0  Admin-0 country          1          6                         Fiji    FJI   \n",
       "1  Admin-0 country          1          3  United Republic of Tanzania    TZA   \n",
       "2  Admin-0 country          1          7               Western Sahara    SAH   \n",
       "3  Admin-0 country          1          2                       Canada    CAN   \n",
       "4  Admin-0 country          1          2     United States of America    US1   \n",
       "\n",
       "   ADM0_DIF  LEVEL               TYPE TLC                        ADMIN  ...  \\\n",
       "0         0      2  Sovereign country   1                         Fiji  ...   \n",
       "1         0      2  Sovereign country   1  United Republic of Tanzania  ...   \n",
       "2         0      2      Indeterminate   1               Western Sahara  ...   \n",
       "3         0      2  Sovereign country   1                       Canada  ...   \n",
       "4         1      2            Country   1     United States of America  ...   \n",
       "\n",
       "      FCLASS_TR     FCLASS_ID     FCLASS_PL FCLASS_GR  FCLASS_IT  \\\n",
       "0          None          None          None      None       None   \n",
       "1          None          None          None      None       None   \n",
       "2  Unrecognized  Unrecognized  Unrecognized      None       None   \n",
       "3          None          None          None      None       None   \n",
       "4          None          None          None      None       None   \n",
       "\n",
       "      FCLASS_NL FCLASS_SE  FCLASS_BD FCLASS_UA  \\\n",
       "0          None      None       None      None   \n",
       "1          None      None       None      None   \n",
       "2  Unrecognized      None       None      None   \n",
       "3          None      None       None      None   \n",
       "4          None      None       None      None   \n",
       "\n",
       "                                            geometry  \n",
       "0  MULTIPOLYGON (((180 -16.06713, 180 -16.55522, ...  \n",
       "1  POLYGON ((33.90371 -0.95, 34.07262 -1.05982, 3...  \n",
       "2  POLYGON ((-8.66559 27.65643, -8.66512 27.58948...  \n",
       "3  MULTIPOLYGON (((-122.84 49, -122.97421 49.0025...  \n",
       "4  MULTIPOLYGON (((-122.84 49, -120 49, -117.0312...  \n",
       "\n",
       "[5 rows x 169 columns]"
      ]
     },
     "execution_count": 38,
     "metadata": {},
     "output_type": "execute_result"
    }
   ],
   "source": [
    "world = gpd.read_file('E:\\Github\\Streamlit_WS\\Streamlit_Basic\\Basic/02_geo_map\\data\\map/ne_110m_admin_0_countries.shx')\n",
    "world.head()"
   ]
  },
  {
   "cell_type": "code",
   "execution_count": 48,
   "metadata": {},
   "outputs": [
    {
     "data": {
      "text/plain": [
       "0    MultiPolygon\n",
       "1         Polygon\n",
       "2         Polygon\n",
       "3    MultiPolygon\n",
       "4    MultiPolygon\n",
       "dtype: object"
      ]
     },
     "execution_count": 48,
     "metadata": {},
     "output_type": "execute_result"
    }
   ],
   "source": [
    "world.geom_type[:5]"
   ]
  },
  {
   "cell_type": "code",
   "execution_count": 46,
   "metadata": {},
   "outputs": [
    {
     "data": {
      "image/svg+xml": [
       "<svg xmlns=\"http://www.w3.org/2000/svg\" xmlns:xlink=\"http://www.w3.org/1999/xlink\" width=\"113.21256665112256\" height=\"100.0\" viewBox=\"-175.98416862700688 14.72313197588435 113.21256665112256 60.82768962517304\" preserveAspectRatio=\"xMinYMin meet\"><g transform=\"matrix(1,0,0,-1,0,90.27395357694175)\"><g><path fill-rule=\"evenodd\" fill=\"#66cc99\" stroke=\"#555555\" stroke-width=\"2.0\" opacity=\"0.6\" d=\"M -122.84000000000003,49.000000000000114 L -120.0,49.000000000000114 L -117.03121,49.0 L -116.04818,49.0 L -113.0,49.0 L -110.05000000000001,49.0 L -107.05000000000001,49.0 L -104.04826000000003,48.99986000000007 L -100.65000000000003,49.000000000000114 L -97.2287200000048,49.0007 L -95.15906950917206,49.0 L -95.15609,49.38425000000001 L -94.81758000000002,49.38905 L -94.64,48.84 L -94.32914000000001,48.67074 L -93.63087000000002,48.609260000000006 L -92.61000000000001,48.44999999999993 L -91.64,48.14 L -90.83,48.27 L -89.60000000000002,48.010000000000105 L -89.27291744663665,48.01980825458281 L -88.37811418328671,48.302917588893706 L -87.43979262330028,47.94 L -86.46199083122826,47.553338019392 L -85.65236324740341,47.22021881773051 L -84.8760798815149,46.90008331968238 L -84.77923824739992,46.63710195574902 L -84.54374874544584,46.538684190449146 L -84.60490000000004,46.439599999999984 L -84.33670000000001,46.408770000000004 L -84.1421195136734,46.51222585711571 L -84.0918512641615,46.27541860613826 L -83.89076534700574,46.116926988299014 L -83.61613094759059,46.116926988299014 L -83.46955074739469,45.994686387712534 L -83.59285071484311,45.81689362241252 L -82.55092464875821,45.34751658790543 L -82.33776312543114,44.440000000000055 L -82.13764238150395,43.57108755143997 L -82.42999999999999,42.980000000000004 L -82.9,42.43 L -83.12,42.08 L -83.14199968131264,41.975681057292874 L -83.029810146807,41.83279572200598 L -82.69008928092023,41.675105088867326 L -82.4392777167916,41.675105088867326 L -81.27774654816716,42.209025987306816 L -80.24744767934794,42.36619985612255 L -78.93936214874375,42.86361135514798 L -78.92,42.964999999999996 L -79.01,43.27 L -79.17167355011186,43.46633942318426 L -78.72027991404235,43.62508942318493 L -77.7378850979577,43.62905558936328 L -76.82003414580558,43.628784288093755 L -76.50000000000001,44.01845889375865 L -76.375,44.09631 L -75.31821000000001,44.81645 L -74.86700000000002,45.000480000000096 L -73.34783,45.00738 L -71.50506,45.0082 L -71.405,45.254999999999995 L -71.08482000000004,45.30524000000014 L -70.66,45.46 L -70.305,45.915 L -69.99997,46.69307 L -69.237216,47.447781 L -68.90500000000003,47.18500000000006 L -68.23444,47.354859999999974 L -67.79046000000001,47.066359999999996 L -67.79134,45.70281000000001 L -67.13741,45.13753 L -66.96465999999998,44.809700000000134 L -68.03251999999998,44.325199999999995 L -69.05999999999995,43.980000000000075 L -70.11616999999995,43.68405000000013 L -70.64547563341102,43.09023834896402 L -70.81488999999999,42.865299999999934 L -70.82499999999999,42.33499999999998 L -70.49499999999995,41.80500000000001 L -70.07999999999998,41.78000000000003 L -70.185,42.145000000000095 L -69.88496999999995,41.92283000000009 L -69.96502999999996,41.63717000000014 L -70.63999999999999,41.47500000000002 L -71.12039000000004,41.49445000000014 L -71.8599999999999,41.32000000000005 L -72.29500000000002,41.26999999999998 L -72.87643000000003,41.220650000000035 L -73.71000000000004,40.93110235165449 L -72.24125999999995,41.119480000000124 L -71.94499999999988,40.930000000000064 L -73.34499999999997,40.63000000000005 L -73.98200000000003,40.62799999999993 L -73.95232499999997,40.75075000000004 L -74.25671,40.47351000000003 L -73.96243999999996,40.42763000000002 L -74.17838,39.70925999999997 L -74.90603999999996,38.93954000000002 L -74.98041,39.19640000000004 L -75.20002,39.248450000000105 L -75.52805000000001,39.49850000000009 L -75.32,38.960000000000036 L -75.07183476478986,38.782032230179254 L -75.05672999999996,38.40412000000009 L -75.37746999999996,38.015510000000006 L -75.94022999999999,37.21689000000009 L -76.03126999999995,37.25659999999999 L -75.72204999999985,37.93705000000011 L -76.23286999999999,38.319214999999986 L -76.35000000000002,39.14999999999998 L -76.54272499999996,38.71761500000008 L -76.32933000000003,38.08326000000005 L -76.98999793161352,38.23999176691336 L -76.30161999999996,37.91794499999992 L -76.25873999999999,36.96640000000008 L -75.97179999999997,36.89726000000002 L -75.8680399999999,36.55125000000004 L -75.72748999999999,35.55074000000013 L -76.36318,34.80854000000011 L -77.39763499999992,34.512009999999975 L -78.05496,33.92547000000002 L -78.55434999999989,33.86133000000012 L -79.06067000000002,33.493949999999984 L -79.20357000000001,33.158390000000054 L -80.30132499999996,32.509355000000085 L -80.86498,32.033300000000054 L -81.33629000000002,31.44049000000001 L -81.49041999999997,30.7299900000001 L -81.31371000000001,30.035520000000076 L -80.97999999999996,29.18000000000012 L -80.53558499999991,28.472129999999993 L -80.52999999999986,28.040000000000077 L -80.05653928497759,26.88000000000011 L -80.08801499999998,26.205764999999985 L -80.13155999999992,25.816775000000064 L -80.38103000000001,25.20616000000001 L -80.67999999999995,25.08000000000004 L -81.17212999999998,25.201260000000104 L -81.33000000000004,25.639999999999986 L -81.70999999999987,25.870000000000005 L -82.23999999999995,26.730000000000132 L -82.70515,27.495040000000074 L -82.85525999999999,27.886240000000043 L -82.64999999999998,28.550000000000125 L -82.92999999999995,29.10000000000008 L -83.70958999999999,29.936560000000043 L -84.09999999999997,30.09000000000009 L -85.10881999999998,29.636150000000043 L -85.28784000000002,29.68612000000013 L -85.7731,30.152610000000095 L -86.39999999999992,30.40000000000009 L -87.53035999999992,30.27433000000002 L -88.41781999999995,30.384900000000016 L -89.1804899999999,30.315980000000025 L -89.5938311784198,30.159994004836847 L -89.41373499999997,29.89418999999998 L -89.43,29.488639999999975 L -89.21767,29.291080000000022 L -89.40822999999995,29.159610000000043 L -89.77927999999997,29.307140000000118 L -90.15463,29.11743000000007 L -90.88022499999994,29.148535000000095 L -91.62678499999993,29.677000000000135 L -92.49905999999999,29.552300000000002 L -93.22636999999997,29.783750000000055 L -93.84841999999998,29.71363000000008 L -94.69,29.480000000000132 L -95.60025999999999,28.738630000000057 L -96.59403999999995,28.307480000000055 L -97.13999999999987,27.83000000000004 L -97.36999999999995,27.380000000000052 L -97.37999999999994,26.690000000000055 L -97.32999999999998,26.210000000000093 L -97.13999999999987,25.870000000000005 L -97.52999999999992,25.84000000000009 L -98.23999999999995,26.06000000000006 L -99.01999999999992,26.37000000000006 L -99.30000000000001,26.840000000000032 L -99.51999999999992,27.54000000000002 L -100.10999999999996,28.110000000000127 L -100.45584000000002,28.69612000000012 L -100.95759999999996,29.380710000000136 L -101.66239999999999,29.77930000000009 L -102.48000000000002,29.75999999999999 L -103.11000000000001,28.970000000000027 L -103.94,29.27000000000004 L -104.4569699999999,29.571960000000047 L -104.70574999999997,30.121730000000014 L -105.03737000000001,30.644019999999955 L -105.63159000000002,31.08383000000009 L -106.1429,31.399950000000047 L -106.50758999999988,31.754520000000014 L -108.24000000000001,31.754853718166373 L -108.24193999999994,31.342220000000054 L -109.03500000000003,31.341940000000136 L -111.02361000000002,31.334719999999948 L -113.30498,32.03914000000009 L -114.815,32.52528000000001 L -114.72138999999993,32.72082999999992 L -115.99134999999995,32.61239000000012 L -117.12775999999985,32.53533999999996 L -117.29593769127393,33.04622461520387 L -117.94400000000002,33.621236431201396 L -118.41060227589753,33.74090922312445 L -118.51989482279976,34.02778157757575 L -119.08100000000002,34.07799999999992 L -119.43884064201671,34.34847717828427 L -120.36777999999998,34.447110000000066 L -120.62286,34.60854999999998 L -120.74432999999999,35.15686000000011 L -121.71456999999992,36.161529999999914 L -122.54746999999998,37.551760000000115 L -122.51201000000003,37.78339000000011 L -122.95319,38.11371000000008 L -123.72720000000004,38.95166000000012 L -123.86516999999998,39.76699000000008 L -124.39807000000002,40.313199999999995 L -124.17885999999999,41.142020000000116 L -124.21370000000002,41.99964000000011 L -124.53283999999996,42.7659900000001 L -124.14213999999998,43.708380000000034 L -124.020535,44.615894999999966 L -123.89892999999995,45.52341000000007 L -124.079635,46.864750000000015 L -124.39566999999994,47.72017000000011 L -124.68721008300781,48.18443298339855 L -124.56610107421875,48.37971496582037 L -123.12,48.04000000000002 L -122.58735999999993,47.09600000000006 L -122.34000000000003,47.360000000000014 L -122.5,48.180000000000064 L -122.84000000000003,49.000000000000114 z\" /><path fill-rule=\"evenodd\" fill=\"#66cc99\" stroke=\"#555555\" stroke-width=\"2.0\" opacity=\"0.6\" d=\"M -155.40214,20.07975 L -155.22452,19.99302 L -155.06226,19.8591 L -154.80741,19.50871 L -154.83147,19.453280000000003 L -155.22217,19.23972 L -155.54211,19.08348 L -155.68817,18.91619 L -155.93665,19.05939 L -155.90806,19.33888 L -156.07347000000001,19.70294 L -156.02368,19.81422 L -155.85008000000002,19.97729 L -155.91907,20.17395 L -155.86108000000002,20.267210000000002 L -155.78505,20.2487 L -155.40214,20.07975 z\" /><path fill-rule=\"evenodd\" fill=\"#66cc99\" stroke=\"#555555\" stroke-width=\"2.0\" opacity=\"0.6\" d=\"M -155.99566000000002,20.76404 L -156.07926,20.643970000000003 L -156.41445,20.57241 L -156.58673,20.783 L -156.70167,20.8643 L -156.71054999999998,20.92676 L -156.61258,21.01249 L -156.25711,20.917450000000002 L -155.99566000000002,20.76404 z\" /><path fill-rule=\"evenodd\" fill=\"#66cc99\" stroke=\"#555555\" stroke-width=\"2.0\" opacity=\"0.6\" d=\"M -156.75824,21.176840000000002 L -156.78933,21.068730000000002 L -157.32521,21.097770000000004 L -157.25027,21.219579999999997 L -156.75824,21.176840000000002 z\" /><path fill-rule=\"evenodd\" fill=\"#66cc99\" stroke=\"#555555\" stroke-width=\"2.0\" opacity=\"0.6\" d=\"M -158.0252,21.71696 L -157.94161,21.65272 L -157.65283000000002,21.322170000000003 L -157.70703,21.26442 L -157.7786,21.27729 L -158.12667000000002,21.31244 L -158.2538,21.53919 L -158.29265,21.57912 L -158.0252,21.71696 z\" /><path fill-rule=\"evenodd\" fill=\"#66cc99\" stroke=\"#555555\" stroke-width=\"2.0\" opacity=\"0.6\" d=\"M -159.36569,22.21494 L -159.34512,21.982000000000003 L -159.46372,21.88299 L -159.80051,22.065330000000003 L -159.74877,22.1382 L -159.5962,22.236179999999997 L -159.36569,22.21494 z\" /><path fill-rule=\"evenodd\" fill=\"#66cc99\" stroke=\"#555555\" stroke-width=\"2.0\" opacity=\"0.6\" d=\"M -166.46779212142462,60.384169826897754 L -165.67442969466364,60.29360687930625 L -165.57916419173358,59.90998688418753 L -166.19277014876727,59.75444082298899 L -166.84833736882197,59.941406155020985 L -167.45527706609008,60.21306915957936 L -166.46779212142462,60.384169826897754 z\" /><path fill-rule=\"evenodd\" fill=\"#66cc99\" stroke=\"#555555\" stroke-width=\"2.0\" opacity=\"0.6\" d=\"M -153.22872941792113,57.96896841087248 L -152.56479061583514,57.901427313866996 L -152.1411472239064,57.591058661522 L -153.00631405333692,57.11584219016593 L -154.0050902984581,56.734676825581076 L -154.51640275777004,56.99274892844669 L -154.67099280497118,57.46119578717253 L -153.7627795074415,57.81657461204373 L -153.22872941792113,57.96896841087248 z\" /><path fill-rule=\"evenodd\" fill=\"#66cc99\" stroke=\"#555555\" stroke-width=\"2.0\" opacity=\"0.6\" d=\"M -140.98598761037601,69.71199839952635 L -140.986,69.712 L -140.9925,66.00003000000001 L -140.99778,60.30639000000001 L -140.013,60.27682000000001 L -139.03900000000002,60.0 L -138.34089,59.562110000000004 L -137.4525,58.905 L -136.47972000000004,59.46389000000005 L -135.47583,59.787780000000005 L -134.94500000000005,59.2705600000001 L -134.27111000000002,58.86111000000005 L -133.35556000000003,58.41028000000001 L -132.73042,57.692890000000006 L -131.70781,56.55212 L -130.00778000000003,55.915830000000085 L -129.98,55.285000000000004 L -130.53611,54.802780000000006 L -130.53610895273684,54.80275447679924 L -130.5361101894673,54.8027534043494 L -131.08581823797215,55.17890615500204 L -131.9672114671423,55.497775580459006 L -132.2500107428595,56.3699962428974 L -133.53918108435641,57.17888743756214 L -134.07806292029608,58.12306753196691 L -135.0382110322791,58.18771474876394 L -136.62806230995471,58.21220937767043 L -137.800006279686,58.49999542910376 L -139.867787041413,59.53776154238915 L -140.825273817133,59.727517401765056 L -142.57444353556446,60.08444651960497 L -143.9588809948799,59.999180406323376 L -145.92555681682788,60.45860972761426 L -147.11437394914665,60.884656073644635 L -148.22430620012761,60.67298940697714 L -148.01806555885082,59.97832896589364 L -148.57082251686086,59.914172675203304 L -149.72785783587585,59.70565827090553 L -150.60824337461642,59.368211168039466 L -151.7163927886833,59.15582103131993 L -151.85943315326722,59.744984035879554 L -151.40971900124717,60.72580272077937 L -150.3469414947325,61.03358755150987 L -150.62111080625704,61.2844249538544 L -151.89583919981683,60.727197984451266 L -152.57832984109558,60.061657212964235 L -154.01917212625764,59.35027944603428 L -153.28751135965317,58.86472768821977 L -154.23249243875847,58.14637360293051 L -155.3074914215102,57.727794501366304 L -156.30833472392305,57.422774359763594 L -156.55609737854638,56.97998484967064 L -158.11721655986779,56.46360809999419 L -158.43332129619714,55.99415355083852 L -159.60332739971741,55.56668610292013 L -160.28971961163427,55.643580634170576 L -161.22304765525777,55.364734605523495 L -162.23776607974105,55.02418691672011 L -163.06944658104638,54.68973704692712 L -164.78556922102717,54.40417308208214 L -164.94222632552007,54.57222483989534 L -163.84833960676565,55.03943146424609 L -162.87000139061595,55.34804311789321 L -161.80417497459607,55.89498647727038 L -160.5636047027812,56.00805451112501 L -160.07055986228448,56.41805532492873 L -158.6844429189195,57.01667511659787 L -158.46109737855403,57.21692129172885 L -157.72277035218391,57.57000051536306 L -157.55027442119362,58.328326321030204 L -157.04167497457698,58.91888458926172 L -158.19473120830554,58.61580231386978 L -158.51721798402303,58.78778148053732 L -159.0586061269288,58.42418610293163 L -159.71166704001737,58.93139028587632 L -159.98128882550017,58.572549140041644 L -160.3552711659965,59.07112335879361 L -161.3550034251151,58.670837714260756 L -161.96889360252632,58.67166453717738 L -162.05498653872465,59.26692536074745 L -161.8741707021354,59.63362132429057 L -162.51805904849212,59.98972361921386 L -163.8183414378202,59.79805573184336 L -164.66221757714652,60.26748444278263 L -165.3463877024748,60.50749563256238 L -165.3508318756519,61.073895168697504 L -166.12137915755602,61.50001902937623 L -165.73445187077058,62.074996853271784 L -164.9191786367179,62.63307648380794 L -164.56250790103934,63.14637848576302 L -163.75333248599708,63.21944896102377 L -163.06722449445786,63.05945872664802 L -162.26055538638175,63.54193573674115 L -161.53444983624863,63.455816962326764 L -160.7725066803211,63.766108100023246 L -160.9583351308426,64.22279857040274 L -161.51806840721218,64.40278758407527 L -160.77777767641481,64.78860382756642 L -161.39192623598765,64.77723501246231 L -162.4530500966689,64.55944468856819 L -162.75778601789415,64.33860545516876 L -163.54639421288428,64.5591604681905 L -164.96082984114514,64.44694509546883 L -166.42528825586447,64.68667206487066 L -166.8450042389391,65.08889557561452 L -168.11056006576715,65.66999705673675 L -166.70527116602193,66.08831777613938 L -164.47470964257548,66.5766600612975 L -163.65251176659564,66.5766600612975 L -163.78860165103623,66.07720734319668 L -161.67777442121013,66.11611969671242 L -162.48971452538004,66.73556509059512 L -163.71971696679117,67.11639455837008 L -164.4309913808565,67.61633820257777 L -165.39028683170673,68.04277212185025 L -166.76444068099605,68.35887685817966 L -166.20470740462667,68.88303091091615 L -164.43081051334346,68.91553538682774 L -163.1686136546145,69.37111481391287 L -162.930566169262,69.85806183539927 L -161.90889726463556,70.33332998318764 L -160.93479651593367,70.44768992784958 L -159.03917578838713,70.89164215766891 L -158.11972286683394,70.82472117785102 L -156.58082455139808,71.35776357694175 L -155.06779029032427,71.14777639432367 L -154.3441652089412,70.69640859647018 L -153.9000062733926,70.88998851183567 L -152.21000606993528,70.82999217394485 L -152.27000240782613,70.60000621202983 L -150.73999243874448,70.43001658800569 L -149.7200030181675,70.53001048449045 L -147.61336157935705,70.2140349392418 L -145.68998980022533,70.12000967068673 L -144.9200109590764,69.98999176704046 L -143.58944618042523,70.15251414659832 L -142.07251034871348,69.85193817817265 L -140.98598752156073,69.71199839952635 L -140.98598761037601,69.71199839952635 z\" /><path fill-rule=\"evenodd\" fill=\"#66cc99\" stroke=\"#555555\" stroke-width=\"2.0\" opacity=\"0.6\" d=\"M -171.73165686753944,63.782515367275934 L -171.1144335602453,63.59219106714495 L -170.4911124339407,63.694975490973505 L -169.6825054596536,63.43111562769119 L -168.6894394603007,63.297506212000556 L -168.77194088445466,63.18859813094544 L -169.5294398672051,62.97693146427792 L -170.29055620021595,63.194437567794424 L -170.67138566799093,63.3758218451389 L -171.55306311753873,63.317789211675105 L -171.79111060289122,63.40584585230046 L -171.73165686753944,63.782515367275934 z\" /></g></g></svg>"
      ],
      "text/plain": [
       "<MULTIPOLYGON (((-122.84 49, -120 49, -117.031 49, -116.048 49, -113 49, -11...>"
      ]
     },
     "execution_count": 46,
     "metadata": {},
     "output_type": "execute_result"
    }
   ],
   "source": [
    "world.geometry[4] # 4번째 데이터의 지오메트리 정보"
   ]
  },
  {
   "cell_type": "code",
   "execution_count": 42,
   "metadata": {},
   "outputs": [
    {
     "data": {
      "text/plain": [
       "shapely.geometry.polygon.Polygon"
      ]
     },
     "execution_count": 42,
     "metadata": {},
     "output_type": "execute_result"
    }
   ],
   "source": [
    "type(world.geometry[1]) # 지오메트리 타입 확인"
   ]
  },
  {
   "cell_type": "code",
   "execution_count": 43,
   "metadata": {},
   "outputs": [
    {
     "name": "stdout",
     "output_type": "stream",
     "text": [
      "POLYGON ((33.90371119710453 -0.9500000000000001, 34.07261999999997 -1.0598199999999451, 37.69868999999994 -3.0969899999999484, 37.7669 -3.6771200000000004, 39.20222 -4.67677, 38.74053999999995 -5.9089499999999475, 38.79977000000008 -6.475660000000005, 39.44 -6.839999999999861, 39.47000000000014 -7.099999999999966, 39.19468999999998 -7.703899999999976, 39.25203000000005 -8.00780999999995, 39.18652000000009 -8.48550999999992, 39.53574000000009 -9.112369999999885, 39.94960000000003 -10.098400000000026, 40.316586229110854 -10.317097752817492, 40.31659000000002 -10.317099999999868, 39.52099999999996 -10.89688000000001, 38.42755659358775 -11.285202325081656, 37.827639999999974 -11.26878999999991, 37.471289999999954 -11.568759999999997, 36.775150994622805 -11.594537448780805, 36.51408165868426 -11.720938002166735, 35.31239790216904 -11.439146416879147, 34.55998904799935 -11.520020033415925, 34.27999999999997 -10.160000000000025, 33.940837724096525 -9.693673841980285, 33.73972000000009 -9.417149999999992, 32.75937544122132 -9.23059905358906, 32.19186486179194 -8.930358981973257, 31.556348097466497 -8.762048841998642, 31.15775133695005 -8.594578747317366, 30.740009731422095 -8.34000593035372, 30.74001549655179 -8.340007419470915, 30.199996779101696 -7.079980970898163, 29.620032179490014 -6.520015150583426, 29.419992710088167 -5.939998874539434, 29.519986606572928 -5.419978936386315, 29.339997592900346 -4.4999834122940925, 29.753512404099865 -4.452389418153302, 30.11632000000003 -4.090120000000013, 30.505539999999996 -3.5685799999999404, 30.752240000000086 -3.3593099999999936, 30.743010000000027 -3.034309999999948, 30.527660000000026 -2.807619999999986, 30.469673645761223 -2.41385475710134, 30.469670000000008 -2.4138299999999617, 30.75830895358311 -2.2872502579883687, 30.816134881317712 -1.6989140763453887, 30.419104852019245 -1.1346591121504161, 30.769860000000108 -1.0145499999999856, 31.866170000000068 -1.0273599999999306, 33.90371119710453 -0.9500000000000001))\n"
     ]
    }
   ],
   "source": [
    "print(world.geometry[1]) # 지오메트리 정보 확인"
   ]
  },
  {
   "cell_type": "code",
   "execution_count": 50,
   "metadata": {},
   "outputs": [
    {
     "data": {
      "text/plain": [
       "Index(['featurecla', 'scalerank', 'LABELRANK', 'SOVEREIGNT', 'SOV_A3',\n",
       "       'ADM0_DIF', 'LEVEL', 'TYPE', 'TLC', 'ADMIN',\n",
       "       ...\n",
       "       'FCLASS_TR', 'FCLASS_ID', 'FCLASS_PL', 'FCLASS_GR', 'FCLASS_IT',\n",
       "       'FCLASS_NL', 'FCLASS_SE', 'FCLASS_BD', 'FCLASS_UA', 'geometry'],\n",
       "      dtype='object', length=169)"
      ]
     },
     "execution_count": 50,
     "metadata": {},
     "output_type": "execute_result"
    }
   ],
   "source": [
    "world.columns # 컬럼 확인"
   ]
  },
  {
   "cell_type": "code",
   "execution_count": 51,
   "metadata": {},
   "outputs": [
    {
     "data": {
      "text/plain": [
       "95    MULTILINESTRING ((130.78 42.22001, 130.78 42.2...\n",
       "96    LINESTRING (126.17476 37.74969, 126.23734 37.8...\n",
       "dtype: geometry"
      ]
     },
     "execution_count": 51,
     "metadata": {},
     "output_type": "execute_result"
    }
   ],
   "source": [
    "kor_geom = world[world['SOVEREIGNT'].isin(['South Korea', 'North Korea'])].geometry\n",
    "kor_geom.boundary.squeeze()"
   ]
  },
  {
   "cell_type": "code",
   "execution_count": 52,
   "metadata": {},
   "outputs": [
    {
     "name": "stdout",
     "output_type": "stream",
     "text": [
      "95    MULTIPOLYGON (((130.78 42.22001, 130.78 42.220...\n",
      "96    POLYGON ((126.17476 37.74969, 126.23734 37.840...\n",
      "Name: geometry, dtype: geometry\n"
     ]
    }
   ],
   "source": [
    "print(kor_geom)"
   ]
  },
  {
   "cell_type": "code",
   "execution_count": 53,
   "metadata": {},
   "outputs": [
    {
     "data": {
      "image/png": "[encoded data removed]",
      "text/plain": [
       "<Figure size 1000x600 with 1 Axes>"
      ]
     },
     "metadata": {},
     "output_type": "display_data"
    }
   ],
   "source": [
    "fig, ax = plt.subplots(figsize=(10, 6))\n",
    "kor_geom.plot(ax=ax)\n",
    "plt.savefig('output/map03.png', dpi=200)\n",
    "plt.show()"
   ]
  }
 ],
 "metadata": {
  "kernelspec": {
   "display_name": "Python 3",
   "language": "python",
   "name": "python3"
  },
  "language_info": {
   "codemirror_mode": {
    "name": "ipython",
    "version": 3
   },
   "file_extension": ".py",
   "mimetype": "text/x-python",
   "name": "python",
   "nbconvert_exporter": "python",
   "pygments_lexer": "ipython3",
   "version": "3.12.5"
  }
 },
 "nbformat": 4,
 "nbformat_minor": 2
}
